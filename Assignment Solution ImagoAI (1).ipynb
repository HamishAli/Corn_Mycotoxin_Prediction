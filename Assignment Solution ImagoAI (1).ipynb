{
 "cells": [
  {
   "cell_type": "markdown",
   "id": "c97f4fc3",
   "metadata": {},
   "source": [
    "# 1. Project Overview\n",
    "## The objective of this project was to develop a robust machine learning model to predict vomitoxin_ppb concentration in corn samples based on spectral data. The dataset consisted of 450+ features representing spectral reflectance values.\n",
    "\n",
    "- Key steps included:\n",
    "    -  Data Cleaning and Preprocessing\n",
    "    -  Exploratory Data Analysis (EDA)\n",
    "    -  Model Development and Optimization\n",
    "    -  Model Evaluation using Key Metrics"
   ]
  },
  {
   "cell_type": "markdown",
   "id": "6fabd432",
   "metadata": {},
   "source": []
  },
  {
   "cell_type": "code",
   "execution_count": 69,
   "id": "5fbef460",
   "metadata": {},
   "outputs": [],
   "source": [
    "import pandas as pd\n",
    "import numpy as np\n",
    "import matplotlib.pyplot as plt\n",
    "import seaborn as sns\n",
    "from sklearn.model_selection import train_test_split\n",
    "from sklearn.preprocessing import StandardScaler\n",
    "from sklearn.decomposition import PCA\n",
    "from sklearn.metrics import mean_absolute_error, mean_squared_error, r2_score\n",
    "import tensorflow as tf\n",
    "from tensorflow import keras\n",
    "from tensorflow.keras import layers"
   ]
  },
  {
   "cell_type": "code",
   "execution_count": 70,
   "id": "4c117add",
   "metadata": {},
   "outputs": [],
   "source": [
    "df = pd.read_csv('MLE-Assignment.csv')"
   ]
  },
  {
   "cell_type": "code",
   "execution_count": 71,
   "id": "8659d9cc",
   "metadata": {},
   "outputs": [
    {
     "data": {
      "text/html": [
       "<div>\n",
       "<style scoped>\n",
       "    .dataframe tbody tr th:only-of-type {\n",
       "        vertical-align: middle;\n",
       "    }\n",
       "\n",
       "    .dataframe tbody tr th {\n",
       "        vertical-align: top;\n",
       "    }\n",
       "\n",
       "    .dataframe thead th {\n",
       "        text-align: right;\n",
       "    }\n",
       "</style>\n",
       "<table border=\"1\" class=\"dataframe\">\n",
       "  <thead>\n",
       "    <tr style=\"text-align: right;\">\n",
       "      <th></th>\n",
       "      <th>hsi_id</th>\n",
       "      <th>0</th>\n",
       "      <th>1</th>\n",
       "      <th>2</th>\n",
       "      <th>3</th>\n",
       "      <th>4</th>\n",
       "      <th>5</th>\n",
       "      <th>6</th>\n",
       "      <th>7</th>\n",
       "      <th>8</th>\n",
       "      <th>...</th>\n",
       "      <th>439</th>\n",
       "      <th>440</th>\n",
       "      <th>441</th>\n",
       "      <th>442</th>\n",
       "      <th>443</th>\n",
       "      <th>444</th>\n",
       "      <th>445</th>\n",
       "      <th>446</th>\n",
       "      <th>447</th>\n",
       "      <th>vomitoxin_ppb</th>\n",
       "    </tr>\n",
       "  </thead>\n",
       "  <tbody>\n",
       "    <tr>\n",
       "      <th>0</th>\n",
       "      <td>imagoai_corn_0</td>\n",
       "      <td>0.416181</td>\n",
       "      <td>0.396844</td>\n",
       "      <td>0.408985</td>\n",
       "      <td>0.372865</td>\n",
       "      <td>0.385293</td>\n",
       "      <td>0.365390</td>\n",
       "      <td>0.355226</td>\n",
       "      <td>0.343350</td>\n",
       "      <td>0.344837</td>\n",
       "      <td>...</td>\n",
       "      <td>0.710280</td>\n",
       "      <td>0.717482</td>\n",
       "      <td>0.715078</td>\n",
       "      <td>0.705379</td>\n",
       "      <td>0.696691</td>\n",
       "      <td>0.692793</td>\n",
       "      <td>0.711369</td>\n",
       "      <td>0.697679</td>\n",
       "      <td>0.704520</td>\n",
       "      <td>1100.0</td>\n",
       "    </tr>\n",
       "    <tr>\n",
       "      <th>1</th>\n",
       "      <td>imagoai_corn_1</td>\n",
       "      <td>0.415797</td>\n",
       "      <td>0.402956</td>\n",
       "      <td>0.402564</td>\n",
       "      <td>0.396014</td>\n",
       "      <td>0.397192</td>\n",
       "      <td>0.389634</td>\n",
       "      <td>0.375671</td>\n",
       "      <td>0.363689</td>\n",
       "      <td>0.373883</td>\n",
       "      <td>...</td>\n",
       "      <td>0.684011</td>\n",
       "      <td>0.697271</td>\n",
       "      <td>0.701995</td>\n",
       "      <td>0.696077</td>\n",
       "      <td>0.701012</td>\n",
       "      <td>0.677418</td>\n",
       "      <td>0.696921</td>\n",
       "      <td>0.696544</td>\n",
       "      <td>0.689054</td>\n",
       "      <td>1000.0</td>\n",
       "    </tr>\n",
       "    <tr>\n",
       "      <th>2</th>\n",
       "      <td>imagoai_corn_2</td>\n",
       "      <td>0.389023</td>\n",
       "      <td>0.371206</td>\n",
       "      <td>0.373098</td>\n",
       "      <td>0.373872</td>\n",
       "      <td>0.361056</td>\n",
       "      <td>0.349709</td>\n",
       "      <td>0.333882</td>\n",
       "      <td>0.330841</td>\n",
       "      <td>0.328925</td>\n",
       "      <td>...</td>\n",
       "      <td>0.683054</td>\n",
       "      <td>0.669286</td>\n",
       "      <td>0.663179</td>\n",
       "      <td>0.676165</td>\n",
       "      <td>0.676591</td>\n",
       "      <td>0.655951</td>\n",
       "      <td>0.658945</td>\n",
       "      <td>0.670989</td>\n",
       "      <td>0.665176</td>\n",
       "      <td>1300.0</td>\n",
       "    </tr>\n",
       "    <tr>\n",
       "      <th>3</th>\n",
       "      <td>imagoai_corn_3</td>\n",
       "      <td>0.468837</td>\n",
       "      <td>0.473255</td>\n",
       "      <td>0.462949</td>\n",
       "      <td>0.459335</td>\n",
       "      <td>0.461672</td>\n",
       "      <td>0.459824</td>\n",
       "      <td>0.458194</td>\n",
       "      <td>0.427737</td>\n",
       "      <td>0.415360</td>\n",
       "      <td>...</td>\n",
       "      <td>0.742782</td>\n",
       "      <td>0.730801</td>\n",
       "      <td>0.736787</td>\n",
       "      <td>0.730044</td>\n",
       "      <td>0.751437</td>\n",
       "      <td>0.738497</td>\n",
       "      <td>0.742446</td>\n",
       "      <td>0.754657</td>\n",
       "      <td>0.733474</td>\n",
       "      <td>1300.0</td>\n",
       "    </tr>\n",
       "    <tr>\n",
       "      <th>4</th>\n",
       "      <td>imagoai_corn_4</td>\n",
       "      <td>0.483352</td>\n",
       "      <td>0.487274</td>\n",
       "      <td>0.469153</td>\n",
       "      <td>0.487648</td>\n",
       "      <td>0.464026</td>\n",
       "      <td>0.451152</td>\n",
       "      <td>0.458229</td>\n",
       "      <td>0.440782</td>\n",
       "      <td>0.426193</td>\n",
       "      <td>...</td>\n",
       "      <td>0.770227</td>\n",
       "      <td>0.773013</td>\n",
       "      <td>0.761431</td>\n",
       "      <td>0.763488</td>\n",
       "      <td>0.762473</td>\n",
       "      <td>0.744012</td>\n",
       "      <td>0.775486</td>\n",
       "      <td>0.760431</td>\n",
       "      <td>0.751988</td>\n",
       "      <td>220.0</td>\n",
       "    </tr>\n",
       "  </tbody>\n",
       "</table>\n",
       "<p>5 rows × 450 columns</p>\n",
       "</div>"
      ],
      "text/plain": [
       "           hsi_id         0         1         2         3         4         5  \\\n",
       "0  imagoai_corn_0  0.416181  0.396844  0.408985  0.372865  0.385293  0.365390   \n",
       "1  imagoai_corn_1  0.415797  0.402956  0.402564  0.396014  0.397192  0.389634   \n",
       "2  imagoai_corn_2  0.389023  0.371206  0.373098  0.373872  0.361056  0.349709   \n",
       "3  imagoai_corn_3  0.468837  0.473255  0.462949  0.459335  0.461672  0.459824   \n",
       "4  imagoai_corn_4  0.483352  0.487274  0.469153  0.487648  0.464026  0.451152   \n",
       "\n",
       "          6         7         8  ...       439       440       441       442  \\\n",
       "0  0.355226  0.343350  0.344837  ...  0.710280  0.717482  0.715078  0.705379   \n",
       "1  0.375671  0.363689  0.373883  ...  0.684011  0.697271  0.701995  0.696077   \n",
       "2  0.333882  0.330841  0.328925  ...  0.683054  0.669286  0.663179  0.676165   \n",
       "3  0.458194  0.427737  0.415360  ...  0.742782  0.730801  0.736787  0.730044   \n",
       "4  0.458229  0.440782  0.426193  ...  0.770227  0.773013  0.761431  0.763488   \n",
       "\n",
       "        443       444       445       446       447  vomitoxin_ppb  \n",
       "0  0.696691  0.692793  0.711369  0.697679  0.704520         1100.0  \n",
       "1  0.701012  0.677418  0.696921  0.696544  0.689054         1000.0  \n",
       "2  0.676591  0.655951  0.658945  0.670989  0.665176         1300.0  \n",
       "3  0.751437  0.738497  0.742446  0.754657  0.733474         1300.0  \n",
       "4  0.762473  0.744012  0.775486  0.760431  0.751988          220.0  \n",
       "\n",
       "[5 rows x 450 columns]"
      ]
     },
     "execution_count": 71,
     "metadata": {},
     "output_type": "execute_result"
    }
   ],
   "source": [
    "df.head()"
   ]
  },
  {
   "cell_type": "code",
   "execution_count": 73,
   "id": "4faae8a4",
   "metadata": {},
   "outputs": [
    {
     "name": "stdout",
     "output_type": "stream",
     "text": [
      "<class 'pandas.core.frame.DataFrame'>\n",
      "RangeIndex: 500 entries, 0 to 499\n",
      "Columns: 450 entries, hsi_id to vomitoxin_ppb\n",
      "dtypes: float64(449), object(1)\n",
      "memory usage: 1.7+ MB\n",
      "None\n"
     ]
    }
   ],
   "source": [
    "print(df.info())"
   ]
  },
  {
   "cell_type": "code",
   "execution_count": 74,
   "id": "d65f5add",
   "metadata": {},
   "outputs": [
    {
     "data": {
      "text/html": [
       "<div>\n",
       "<style scoped>\n",
       "    .dataframe tbody tr th:only-of-type {\n",
       "        vertical-align: middle;\n",
       "    }\n",
       "\n",
       "    .dataframe tbody tr th {\n",
       "        vertical-align: top;\n",
       "    }\n",
       "\n",
       "    .dataframe thead th {\n",
       "        text-align: right;\n",
       "    }\n",
       "</style>\n",
       "<table border=\"1\" class=\"dataframe\">\n",
       "  <thead>\n",
       "    <tr style=\"text-align: right;\">\n",
       "      <th></th>\n",
       "      <th>count</th>\n",
       "      <th>mean</th>\n",
       "      <th>std</th>\n",
       "      <th>min</th>\n",
       "      <th>25%</th>\n",
       "      <th>50%</th>\n",
       "      <th>75%</th>\n",
       "      <th>max</th>\n",
       "    </tr>\n",
       "  </thead>\n",
       "  <tbody>\n",
       "    <tr>\n",
       "      <th>0</th>\n",
       "      <td>500.0</td>\n",
       "      <td>0.443118</td>\n",
       "      <td>0.044719</td>\n",
       "      <td>0.311182</td>\n",
       "      <td>0.410456</td>\n",
       "      <td>0.449105</td>\n",
       "      <td>0.480245</td>\n",
       "      <td>0.556287</td>\n",
       "    </tr>\n",
       "    <tr>\n",
       "      <th>1</th>\n",
       "      <td>500.0</td>\n",
       "      <td>0.440761</td>\n",
       "      <td>0.045520</td>\n",
       "      <td>0.295321</td>\n",
       "      <td>0.404310</td>\n",
       "      <td>0.442651</td>\n",
       "      <td>0.478822</td>\n",
       "      <td>0.530168</td>\n",
       "    </tr>\n",
       "    <tr>\n",
       "      <th>2</th>\n",
       "      <td>500.0</td>\n",
       "      <td>0.433814</td>\n",
       "      <td>0.045764</td>\n",
       "      <td>0.284064</td>\n",
       "      <td>0.397038</td>\n",
       "      <td>0.434215</td>\n",
       "      <td>0.473158</td>\n",
       "      <td>0.528774</td>\n",
       "    </tr>\n",
       "    <tr>\n",
       "      <th>3</th>\n",
       "      <td>500.0</td>\n",
       "      <td>0.426122</td>\n",
       "      <td>0.046070</td>\n",
       "      <td>0.282054</td>\n",
       "      <td>0.389029</td>\n",
       "      <td>0.425074</td>\n",
       "      <td>0.464947</td>\n",
       "      <td>0.533202</td>\n",
       "    </tr>\n",
       "    <tr>\n",
       "      <th>4</th>\n",
       "      <td>500.0</td>\n",
       "      <td>0.418990</td>\n",
       "      <td>0.045405</td>\n",
       "      <td>0.296702</td>\n",
       "      <td>0.382102</td>\n",
       "      <td>0.417075</td>\n",
       "      <td>0.459232</td>\n",
       "      <td>0.511909</td>\n",
       "    </tr>\n",
       "    <tr>\n",
       "      <th>...</th>\n",
       "      <td>...</td>\n",
       "      <td>...</td>\n",
       "      <td>...</td>\n",
       "      <td>...</td>\n",
       "      <td>...</td>\n",
       "      <td>...</td>\n",
       "      <td>...</td>\n",
       "      <td>...</td>\n",
       "    </tr>\n",
       "    <tr>\n",
       "      <th>444</th>\n",
       "      <td>500.0</td>\n",
       "      <td>0.738738</td>\n",
       "      <td>0.053601</td>\n",
       "      <td>0.571767</td>\n",
       "      <td>0.700638</td>\n",
       "      <td>0.743965</td>\n",
       "      <td>0.775686</td>\n",
       "      <td>0.945225</td>\n",
       "    </tr>\n",
       "    <tr>\n",
       "      <th>445</th>\n",
       "      <td>500.0</td>\n",
       "      <td>0.738298</td>\n",
       "      <td>0.054014</td>\n",
       "      <td>0.577803</td>\n",
       "      <td>0.698655</td>\n",
       "      <td>0.743301</td>\n",
       "      <td>0.775621</td>\n",
       "      <td>0.932812</td>\n",
       "    </tr>\n",
       "    <tr>\n",
       "      <th>446</th>\n",
       "      <td>500.0</td>\n",
       "      <td>0.737599</td>\n",
       "      <td>0.054136</td>\n",
       "      <td>0.576985</td>\n",
       "      <td>0.698107</td>\n",
       "      <td>0.745216</td>\n",
       "      <td>0.774635</td>\n",
       "      <td>0.931381</td>\n",
       "    </tr>\n",
       "    <tr>\n",
       "      <th>447</th>\n",
       "      <td>500.0</td>\n",
       "      <td>0.738099</td>\n",
       "      <td>0.054297</td>\n",
       "      <td>0.562302</td>\n",
       "      <td>0.699673</td>\n",
       "      <td>0.745733</td>\n",
       "      <td>0.774310</td>\n",
       "      <td>0.957860</td>\n",
       "    </tr>\n",
       "    <tr>\n",
       "      <th>vomitoxin_ppb</th>\n",
       "      <td>500.0</td>\n",
       "      <td>3410.006000</td>\n",
       "      <td>13095.803483</td>\n",
       "      <td>0.000000</td>\n",
       "      <td>137.500000</td>\n",
       "      <td>500.000000</td>\n",
       "      <td>1700.000000</td>\n",
       "      <td>131000.000000</td>\n",
       "    </tr>\n",
       "  </tbody>\n",
       "</table>\n",
       "<p>449 rows × 8 columns</p>\n",
       "</div>"
      ],
      "text/plain": [
       "               count         mean           std       min         25%  \\\n",
       "0              500.0     0.443118      0.044719  0.311182    0.410456   \n",
       "1              500.0     0.440761      0.045520  0.295321    0.404310   \n",
       "2              500.0     0.433814      0.045764  0.284064    0.397038   \n",
       "3              500.0     0.426122      0.046070  0.282054    0.389029   \n",
       "4              500.0     0.418990      0.045405  0.296702    0.382102   \n",
       "...              ...          ...           ...       ...         ...   \n",
       "444            500.0     0.738738      0.053601  0.571767    0.700638   \n",
       "445            500.0     0.738298      0.054014  0.577803    0.698655   \n",
       "446            500.0     0.737599      0.054136  0.576985    0.698107   \n",
       "447            500.0     0.738099      0.054297  0.562302    0.699673   \n",
       "vomitoxin_ppb  500.0  3410.006000  13095.803483  0.000000  137.500000   \n",
       "\n",
       "                      50%          75%            max  \n",
       "0                0.449105     0.480245       0.556287  \n",
       "1                0.442651     0.478822       0.530168  \n",
       "2                0.434215     0.473158       0.528774  \n",
       "3                0.425074     0.464947       0.533202  \n",
       "4                0.417075     0.459232       0.511909  \n",
       "...                   ...          ...            ...  \n",
       "444              0.743965     0.775686       0.945225  \n",
       "445              0.743301     0.775621       0.932812  \n",
       "446              0.745216     0.774635       0.931381  \n",
       "447              0.745733     0.774310       0.957860  \n",
       "vomitoxin_ppb  500.000000  1700.000000  131000.000000  \n",
       "\n",
       "[449 rows x 8 columns]"
      ]
     },
     "execution_count": 74,
     "metadata": {},
     "output_type": "execute_result"
    }
   ],
   "source": [
    "df.describe().transpose()"
   ]
  },
  {
   "cell_type": "code",
   "execution_count": 75,
   "id": "c5de43f2",
   "metadata": {},
   "outputs": [
    {
     "data": {
      "text/plain": [
       "hsi_id           0\n",
       "0                0\n",
       "1                0\n",
       "2                0\n",
       "3                0\n",
       "                ..\n",
       "444              0\n",
       "445              0\n",
       "446              0\n",
       "447              0\n",
       "vomitoxin_ppb    0\n",
       "Length: 450, dtype: int64"
      ]
     },
     "execution_count": 75,
     "metadata": {},
     "output_type": "execute_result"
    }
   ],
   "source": [
    "df.isnull().sum()"
   ]
  },
  {
   "cell_type": "markdown",
   "id": "fa93e7d8",
   "metadata": {},
   "source": [
    "# 2. Data Cleaning and Preprocessing\n",
    "### 2.1 Data Loading and Initial Inspection\n",
    "- The dataset was loaded and inspected for missing values, outliers, and inconsistencies. The hsi_id column, being a string identifier, was removed since it held no predictive value.\n",
    "\n",
    "### 2.2 Handling Missing Data\n",
    "- No significant missing data was identified.\n",
    "- StandardScaler was applied to normalize the data after preprocessing.\n",
    "\n",
    "### 2.3 Outlier Detection and Treatment\n",
    "- Outliers were identified using boxplots and the IQR method.\n",
    "- Features with extreme skewness were transformed using log transformation to improve data distribution.\n",
    "\n",
    "### 2.4 Data Splitting and Scaling\n",
    "- Data was split into 80% training and 20% testing sets.\n",
    "- The StandardScaler was applied to ensure uniform feature scaling for optimal model performance."
   ]
  },
  {
   "cell_type": "code",
   "execution_count": 76,
   "id": "4743d138",
   "metadata": {},
   "outputs": [
    {
     "data": {
      "image/png": "[encoded data removed]",
      "text/plain": [
       "<Figure size 600x400 with 1 Axes>"
      ]
     },
     "metadata": {},
     "output_type": "display_data"
    }
   ],
   "source": [
    "#histogram\n",
    "plt.figure(figsize = (6,4))\n",
    "sns.histplot(df['vomitoxin_ppb'], kde = True, bins = 30, color = 'skyblue')\n",
    "plt.title('Distribution of Target Variable (vomitoxin_ppb)')\n",
    "plt.xlabel('vomistoxin_ppb')\n",
    "plt.show()# 2. Data Cleaning and Preprocessing\n",
    "### 2.1 Data Loading and Initial Inspection\n",
    "- The dataset was loaded and inspected for missing values, outliers, and inconsistencies. The hsi_id column, being a string identifier, was removed since it held no predictive value.\n",
    "\n",
    "### 2.2 Handling Missing Data\n",
    "- No significant missing data was identified.\n",
    "- StandardScaler was applied to normalize the data after preprocessing.\n",
    "\n",
    "### 2.3 Outlier Detection and Treatment\n",
    "- Outliers were identified using boxplots and the IQR method.\n",
    "- Features with extreme skewness were transformed using log transformation to improve data distribution.\n",
    "\n",
    "### 2.4 Data Splitting and Scaling\n",
    "- Data was split into 80% training and 20% testing sets.\n",
    "- The StandardScaler was applied to ensure uniform feature scaling for optimal model performance."
   ]
  },
  {
   "cell_type": "code",
   "execution_count": 77,
   "id": "9978d046",
   "metadata": {},
   "outputs": [
    {
     "data": {
      "text/plain": [
       "<AxesSubplot: >"
      ]
     },
     "execution_count": 77,
     "metadata": {},
     "output_type": "execute_result"
    },
    {
     "data": {
      "image/png": "[encoded data removed]",
      "text/plain": [
       "<Figure size 800x600 with 1 Axes>"
      ]
     },
     "metadata": {},
     "output_type": "display_data"
    }
   ],
   "source": [
    "plt.figure(figsize= (8,6))\n",
    "sns.boxplot(df['vomitoxin_ppb'], orient= 'h')"
   ]
  },
  {
   "cell_type": "code",
   "execution_count": 79,
   "id": "b6f64847",
   "metadata": {},
   "outputs": [
    {
     "name": "stdout",
     "output_type": "stream",
     "text": [
      "Skewness Value: 7.20\n"
     ]
    }
   ],
   "source": [
    "# checking skeweness of the data as implied by looking at the histogram above.\n",
    "\n",
    "from scipy.stats import skew\n",
    "\n",
    "# Skewness calculation\n",
    "skewness_value = skew(df['vomitoxin_ppb'].dropna())  # Drop NaN to avoid errors\n",
    "print(f'Skewness Value: {skewness_value:.2f}')\n"
   ]
  },
  {
   "cell_type": "code",
   "execution_count": 80,
   "id": "03b9c51f",
   "metadata": {},
   "outputs": [
    {
     "name": "stdout",
     "output_type": "stream",
     "text": [
      "Highly Skewed Features (Total: 1):\n",
      "vomitoxin_ppb    7.225181\n",
      "dtype: float64\n"
     ]
    }
   ],
   "source": [
    "numerical_cols = df.select_dtypes(include=['float64', 'int64']).columns\n",
    "\n",
    "# Calculate skewness for all numerical features\n",
    "skewed_features = df[numerical_cols].skew().sort_values(ascending=False)\n",
    "\n",
    "# Filter features with skewness > ±1\n",
    "highly_skewed = skewed_features[abs(skewed_features) > 1]\n",
    "print(f\"Highly Skewed Features (Total: {len(highly_skewed)}):\")\n",
    "print(highly_skewed)"
   ]
  },
  {
   "cell_type": "markdown",
   "id": "2e7327eb",
   "metadata": {},
   "source": [
    "- **Target variable is Highly Skewed**"
   ]
  },
  {
   "cell_type": "code",
   "execution_count": 81,
   "id": "fd79af19",
   "metadata": {},
   "outputs": [
    {
     "name": "stdout",
     "output_type": "stream",
     "text": [
      "\n",
      "Columns with Outliers and Their Count:\n",
      "15: 2 outliers\n",
      "17: 2 outliers\n",
      "19: 2 outliers\n",
      "20: 1 outliers\n",
      "21: 1 outliers\n",
      "23: 1 outliers\n",
      "24: 2 outliers\n",
      "25: 1 outliers\n",
      "27: 1 outliers\n",
      "28: 2 outliers\n",
      "30: 1 outliers\n",
      "31: 1 outliers\n",
      "32: 2 outliers\n",
      "33: 1 outliers\n",
      "34: 4 outliers\n",
      "35: 4 outliers\n",
      "36: 3 outliers\n",
      "37: 3 outliers\n",
      "38: 4 outliers\n",
      "39: 5 outliers\n",
      "40: 2 outliers\n",
      "41: 5 outliers\n",
      "42: 6 outliers\n",
      "43: 6 outliers\n",
      "44: 4 outliers\n",
      "45: 4 outliers\n",
      "46: 4 outliers\n",
      "47: 6 outliers\n",
      "48: 4 outliers\n",
      "49: 7 outliers\n",
      "50: 4 outliers\n",
      "51: 4 outliers\n",
      "52: 3 outliers\n",
      "53: 3 outliers\n",
      "54: 3 outliers\n",
      "55: 4 outliers\n",
      "56: 1 outliers\n",
      "57: 3 outliers\n",
      "58: 3 outliers\n",
      "59: 5 outliers\n",
      "60: 3 outliers\n",
      "61: 8 outliers\n",
      "62: 6 outliers\n",
      "63: 5 outliers\n",
      "64: 5 outliers\n",
      "65: 4 outliers\n",
      "66: 2 outliers\n",
      "67: 4 outliers\n",
      "68: 4 outliers\n",
      "69: 3 outliers\n",
      "70: 5 outliers\n",
      "71: 2 outliers\n",
      "72: 2 outliers\n",
      "73: 5 outliers\n",
      "74: 3 outliers\n",
      "75: 4 outliers\n",
      "76: 9 outliers\n",
      "77: 4 outliers\n",
      "78: 2 outliers\n",
      "79: 6 outliers\n",
      "80: 4 outliers\n",
      "81: 4 outliers\n",
      "82: 4 outliers\n",
      "83: 6 outliers\n",
      "84: 7 outliers\n",
      "85: 8 outliers\n",
      "86: 5 outliers\n",
      "87: 9 outliers\n",
      "88: 5 outliers\n",
      "89: 8 outliers\n",
      "90: 12 outliers\n",
      "91: 8 outliers\n",
      "92: 10 outliers\n",
      "93: 6 outliers\n",
      "94: 11 outliers\n",
      "95: 10 outliers\n",
      "96: 10 outliers\n",
      "97: 16 outliers\n",
      "98: 9 outliers\n",
      "99: 12 outliers\n",
      "100: 17 outliers\n",
      "101: 12 outliers\n",
      "102: 12 outliers\n",
      "103: 11 outliers\n",
      "104: 14 outliers\n",
      "105: 13 outliers\n",
      "106: 12 outliers\n",
      "107: 14 outliers\n",
      "108: 12 outliers\n",
      "109: 12 outliers\n",
      "110: 13 outliers\n",
      "111: 14 outliers\n",
      "112: 12 outliers\n",
      "113: 14 outliers\n",
      "114: 14 outliers\n",
      "115: 14 outliers\n",
      "116: 12 outliers\n",
      "117: 12 outliers\n",
      "118: 13 outliers\n",
      "119: 13 outliers\n",
      "120: 13 outliers\n",
      "121: 13 outliers\n",
      "122: 14 outliers\n",
      "123: 14 outliers\n",
      "124: 13 outliers\n",
      "125: 12 outliers\n",
      "126: 13 outliers\n",
      "127: 12 outliers\n",
      "128: 11 outliers\n",
      "129: 14 outliers\n",
      "130: 12 outliers\n",
      "131: 13 outliers\n",
      "132: 11 outliers\n",
      "133: 14 outliers\n",
      "134: 12 outliers\n",
      "135: 15 outliers\n",
      "136: 13 outliers\n",
      "137: 12 outliers\n",
      "138: 12 outliers\n",
      "139: 13 outliers\n",
      "140: 10 outliers\n",
      "141: 9 outliers\n",
      "142: 12 outliers\n",
      "143: 15 outliers\n",
      "144: 16 outliers\n",
      "145: 13 outliers\n",
      "146: 13 outliers\n",
      "147: 14 outliers\n",
      "148: 12 outliers\n",
      "149: 13 outliers\n",
      "150: 12 outliers\n",
      "151: 10 outliers\n",
      "152: 11 outliers\n",
      "153: 12 outliers\n",
      "154: 9 outliers\n",
      "155: 11 outliers\n",
      "156: 10 outliers\n",
      "157: 12 outliers\n",
      "158: 12 outliers\n",
      "159: 11 outliers\n",
      "160: 13 outliers\n",
      "161: 14 outliers\n",
      "162: 13 outliers\n",
      "163: 14 outliers\n",
      "164: 10 outliers\n",
      "165: 11 outliers\n",
      "166: 11 outliers\n",
      "167: 14 outliers\n",
      "168: 12 outliers\n",
      "169: 10 outliers\n",
      "170: 13 outliers\n",
      "171: 12 outliers\n",
      "172: 12 outliers\n",
      "173: 10 outliers\n",
      "174: 13 outliers\n",
      "175: 11 outliers\n",
      "176: 11 outliers\n",
      "177: 9 outliers\n",
      "178: 10 outliers\n",
      "179: 14 outliers\n",
      "180: 11 outliers\n",
      "181: 11 outliers\n",
      "182: 11 outliers\n",
      "183: 11 outliers\n",
      "184: 13 outliers\n",
      "185: 12 outliers\n",
      "186: 9 outliers\n",
      "187: 9 outliers\n",
      "188: 11 outliers\n",
      "189: 11 outliers\n",
      "190: 9 outliers\n",
      "191: 9 outliers\n",
      "192: 9 outliers\n",
      "193: 10 outliers\n",
      "194: 10 outliers\n",
      "195: 11 outliers\n",
      "196: 10 outliers\n",
      "197: 12 outliers\n",
      "198: 9 outliers\n",
      "199: 11 outliers\n",
      "200: 10 outliers\n",
      "201: 7 outliers\n",
      "202: 11 outliers\n",
      "203: 11 outliers\n",
      "204: 10 outliers\n",
      "205: 12 outliers\n",
      "206: 8 outliers\n",
      "207: 8 outliers\n",
      "208: 7 outliers\n",
      "209: 10 outliers\n",
      "210: 12 outliers\n",
      "211: 8 outliers\n",
      "212: 10 outliers\n",
      "213: 7 outliers\n",
      "214: 7 outliers\n",
      "215: 11 outliers\n",
      "216: 12 outliers\n",
      "217: 8 outliers\n",
      "218: 8 outliers\n",
      "219: 9 outliers\n",
      "220: 9 outliers\n",
      "221: 9 outliers\n",
      "222: 7 outliers\n",
      "223: 9 outliers\n",
      "224: 7 outliers\n",
      "225: 10 outliers\n",
      "226: 6 outliers\n",
      "227: 5 outliers\n",
      "228: 7 outliers\n",
      "229: 5 outliers\n",
      "230: 10 outliers\n",
      "231: 6 outliers\n",
      "232: 10 outliers\n",
      "233: 9 outliers\n",
      "234: 9 outliers\n",
      "235: 10 outliers\n",
      "236: 9 outliers\n",
      "237: 10 outliers\n",
      "238: 9 outliers\n",
      "239: 8 outliers\n",
      "240: 7 outliers\n",
      "241: 11 outliers\n",
      "242: 7 outliers\n",
      "243: 8 outliers\n",
      "244: 10 outliers\n",
      "245: 9 outliers\n",
      "246: 7 outliers\n",
      "247: 7 outliers\n",
      "248: 8 outliers\n",
      "249: 7 outliers\n",
      "250: 7 outliers\n",
      "251: 7 outliers\n",
      "252: 7 outliers\n",
      "253: 9 outliers\n",
      "254: 5 outliers\n",
      "255: 9 outliers\n",
      "256: 8 outliers\n",
      "257: 8 outliers\n",
      "258: 8 outliers\n",
      "259: 7 outliers\n",
      "260: 7 outliers\n",
      "261: 6 outliers\n",
      "262: 8 outliers\n",
      "263: 7 outliers\n",
      "264: 7 outliers\n",
      "265: 8 outliers\n",
      "266: 10 outliers\n",
      "267: 7 outliers\n",
      "268: 8 outliers\n",
      "269: 8 outliers\n",
      "270: 8 outliers\n",
      "271: 9 outliers\n",
      "272: 8 outliers\n",
      "273: 5 outliers\n",
      "274: 7 outliers\n",
      "275: 8 outliers\n",
      "276: 7 outliers\n",
      "277: 5 outliers\n",
      "278: 6 outliers\n",
      "279: 6 outliers\n",
      "280: 5 outliers\n",
      "281: 9 outliers\n",
      "282: 10 outliers\n",
      "283: 10 outliers\n",
      "284: 7 outliers\n",
      "285: 6 outliers\n",
      "286: 7 outliers\n",
      "287: 7 outliers\n",
      "288: 10 outliers\n",
      "289: 11 outliers\n",
      "290: 8 outliers\n",
      "291: 7 outliers\n",
      "292: 8 outliers\n",
      "293: 6 outliers\n",
      "294: 8 outliers\n",
      "295: 9 outliers\n",
      "296: 7 outliers\n",
      "297: 7 outliers\n",
      "298: 9 outliers\n",
      "299: 10 outliers\n",
      "300: 4 outliers\n",
      "301: 8 outliers\n",
      "302: 8 outliers\n",
      "303: 8 outliers\n",
      "304: 8 outliers\n",
      "305: 9 outliers\n",
      "306: 6 outliers\n",
      "307: 10 outliers\n",
      "308: 8 outliers\n",
      "309: 8 outliers\n",
      "310: 6 outliers\n",
      "311: 7 outliers\n",
      "312: 9 outliers\n",
      "313: 10 outliers\n",
      "314: 10 outliers\n",
      "315: 11 outliers\n",
      "316: 6 outliers\n",
      "317: 8 outliers\n",
      "318: 9 outliers\n",
      "319: 10 outliers\n",
      "320: 8 outliers\n",
      "321: 8 outliers\n",
      "322: 8 outliers\n",
      "323: 6 outliers\n",
      "324: 9 outliers\n",
      "325: 8 outliers\n",
      "326: 7 outliers\n",
      "327: 10 outliers\n",
      "328: 9 outliers\n",
      "329: 7 outliers\n",
      "330: 8 outliers\n",
      "331: 9 outliers\n",
      "332: 8 outliers\n",
      "333: 8 outliers\n",
      "334: 9 outliers\n",
      "335: 9 outliers\n",
      "336: 10 outliers\n",
      "337: 8 outliers\n",
      "338: 12 outliers\n",
      "339: 6 outliers\n",
      "340: 10 outliers\n",
      "341: 10 outliers\n",
      "342: 7 outliers\n",
      "343: 5 outliers\n",
      "344: 9 outliers\n",
      "345: 7 outliers\n",
      "346: 10 outliers\n",
      "347: 10 outliers\n",
      "348: 9 outliers\n",
      "349: 8 outliers\n",
      "350: 14 outliers\n",
      "351: 7 outliers\n",
      "352: 6 outliers\n",
      "353: 9 outliers\n",
      "354: 5 outliers\n",
      "355: 7 outliers\n",
      "356: 11 outliers\n",
      "357: 10 outliers\n",
      "358: 7 outliers\n",
      "359: 6 outliers\n",
      "360: 9 outliers\n",
      "361: 9 outliers\n",
      "362: 8 outliers\n",
      "363: 12 outliers\n",
      "364: 6 outliers\n",
      "365: 9 outliers\n",
      "366: 9 outliers\n",
      "367: 6 outliers\n",
      "368: 9 outliers\n",
      "369: 10 outliers\n",
      "370: 10 outliers\n",
      "371: 7 outliers\n",
      "372: 8 outliers\n",
      "373: 12 outliers\n",
      "374: 9 outliers\n",
      "375: 7 outliers\n",
      "376: 9 outliers\n",
      "377: 12 outliers\n",
      "378: 10 outliers\n",
      "379: 11 outliers\n",
      "380: 7 outliers\n",
      "381: 10 outliers\n",
      "382: 12 outliers\n",
      "383: 8 outliers\n",
      "384: 9 outliers\n",
      "385: 11 outliers\n",
      "386: 12 outliers\n",
      "387: 8 outliers\n",
      "388: 10 outliers\n",
      "389: 9 outliers\n",
      "390: 10 outliers\n",
      "391: 10 outliers\n",
      "392: 8 outliers\n",
      "393: 12 outliers\n",
      "394: 8 outliers\n",
      "395: 10 outliers\n",
      "396: 12 outliers\n",
      "397: 9 outliers\n",
      "398: 11 outliers\n",
      "399: 9 outliers\n",
      "400: 10 outliers\n",
      "401: 10 outliers\n",
      "402: 10 outliers\n",
      "403: 10 outliers\n",
      "404: 6 outliers\n",
      "405: 11 outliers\n",
      "406: 11 outliers\n",
      "407: 14 outliers\n",
      "408: 10 outliers\n",
      "409: 14 outliers\n",
      "410: 10 outliers\n",
      "411: 10 outliers\n",
      "412: 12 outliers\n",
      "413: 10 outliers\n",
      "414: 11 outliers\n",
      "415: 11 outliers\n",
      "416: 10 outliers\n",
      "417: 10 outliers\n",
      "418: 13 outliers\n",
      "419: 15 outliers\n",
      "420: 11 outliers\n",
      "421: 13 outliers\n",
      "422: 14 outliers\n",
      "423: 12 outliers\n",
      "424: 10 outliers\n",
      "425: 10 outliers\n",
      "426: 12 outliers\n",
      "427: 12 outliers\n",
      "428: 13 outliers\n",
      "429: 10 outliers\n",
      "430: 13 outliers\n",
      "431: 10 outliers\n",
      "432: 10 outliers\n",
      "433: 11 outliers\n",
      "434: 10 outliers\n",
      "435: 12 outliers\n",
      "436: 12 outliers\n",
      "437: 11 outliers\n",
      "438: 12 outliers\n",
      "439: 10 outliers\n",
      "440: 10 outliers\n",
      "441: 13 outliers\n",
      "442: 13 outliers\n",
      "443: 9 outliers\n",
      "444: 11 outliers\n",
      "445: 11 outliers\n",
      "446: 10 outliers\n",
      "447: 13 outliers\n"
     ]
    }
   ],
   "source": [
    "# Function to detect outliers using IQR method\n",
    "def detect_outliers_iqr(df):\n",
    "    outlier_counts = {}\n",
    "    for col in df.columns[1:-1]:  # Exclude 'hsi_id' and target column\n",
    "        Q1 = df[col].quantile(0.25)\n",
    "        Q3 = df[col].quantile(0.75)\n",
    "        IQR = Q3 - Q1\n",
    "\n",
    "        # Count outliers\n",
    "        outliers = df[(df[col] < (Q1 - 1.5 * IQR)) | (df[col] > (Q3 + 1.5 * IQR))]\n",
    "        outlier_counts[col] = len(outliers)\n",
    "\n",
    "    return {k: v for k, v in outlier_counts.items() if v > 0}  # Return only columns with outliers\n",
    "\n",
    "# Detect outliers in the dataset\n",
    "outliers_found = detect_outliers_iqr(df)\n",
    "\n",
    "# Print features with detected outliers\n",
    "print(\"\\nColumns with Outliers and Their Count:\")\n",
    "for feature, count in outliers_found.items():\n",
    "    print(f\"{feature}: {count} outliers\")\n"
   ]
  },
  {
   "cell_type": "markdown",
   "id": "90716a6a",
   "metadata": {},
   "source": [
    "- The target variable is right skewed as shown in both histogram and calculation.\n",
    "- I have used Log transformation , which is best suitable for right skewed data."
   ]
  },
  {
   "cell_type": "code",
   "execution_count": 82,
   "id": "8e29b229",
   "metadata": {},
   "outputs": [],
   "source": [
    "# 1. Log Transformation\n",
    "df['vomitoxin_ppb_log'] = np.log1p(df['vomitoxin_ppb'])"
   ]
  },
  {
   "cell_type": "code",
   "execution_count": 83,
   "id": "d9f30276",
   "metadata": {},
   "outputs": [],
   "source": [
    "# 3. Outlier Removal Using IQR.\n",
    "Q1 = df['vomitoxin_ppb_log'].quantile(0.25)\n",
    "Q3 = df['vomitoxin_ppb_log'].quantile(0.75)\n",
    "IQR = Q3 - Q1\n",
    "\n",
    "# Removing values below Q1 - 1.5*IQR and above Q3 + 1.5*IQR\n",
    "df_cleaned = df[(df['vomitoxin_ppb_log'] >= Q1 - 1.5 * IQR) & \n",
    "                 (df['vomitoxin_ppb_log'] <= Q3 + 1.5 * IQR)]"
   ]
  },
  {
   "cell_type": "code",
   "execution_count": 84,
   "id": "860eecc6",
   "metadata": {},
   "outputs": [
    {
     "name": "stdout",
     "output_type": "stream",
     "text": [
      "Original Data Shape: (500, 451)\n",
      "Cleaned Data Shape: (404, 451)\n"
     ]
    }
   ],
   "source": [
    "print(f\"Original Data Shape: {df.shape}\")\n",
    "print(f\"Cleaned Data Shape: {df_cleaned.shape}\")"
   ]
  },
  {
   "cell_type": "code",
   "execution_count": 85,
   "id": "2d3e1804",
   "metadata": {},
   "outputs": [
    {
     "data": {
      "image/png": "[encoded data removed]",
      "text/plain": [
       "<Figure size 600x400 with 1 Axes>"
      ]
     },
     "metadata": {},
     "output_type": "display_data"
    }
   ],
   "source": [
    "#histogram\n",
    "plt.figure(figsize = (6,4))\n",
    "sns.histplot(df_cleaned['vomitoxin_ppb_log'], kde = True, bins = 30, color = 'skyblue')\n",
    "plt.title('Distribution of Target Variable (vomitoxin_ppb)')\n",
    "plt.xlabel('vomistoxin_ppb')\n",
    "plt.show()"
   ]
  },
  {
   "cell_type": "markdown",
   "id": "729e31dd",
   "metadata": {},
   "source": [
    "- The Graph shows :\n",
    "    - Reduced Skewness:\n",
    "    - The original target variable was heavily skewed, which could have misled the model by placing too much importance on extreme values.     \n",
    "    - Now the distribution appears more symmetric, reducing potential bias.\n",
    "    - Outlier Management: Removing extreme outliers reduces noise, making the model more stable and generalizable."
   ]
  },
  {
   "cell_type": "code",
   "execution_count": 86,
   "id": "7e505537",
   "metadata": {},
   "outputs": [
    {
     "name": "stdout",
     "output_type": "stream",
     "text": [
      "Empty DataFrame\n",
      "Columns: [Missing Values, Percentage]\n",
      "Index: []\n"
     ]
    }
   ],
   "source": [
    "# Checking for missing values\n",
    "missing_data = df_cleaned.isnull().sum().sort_values(ascending=False)\n",
    "missing_percent = (missing_data / len(df)) * 100\n",
    "\n",
    "# Display columns with missing values\n",
    "missing_info = pd.DataFrame({'Missing Values': missing_data, 'Percentage': missing_percent})\n",
    "print(missing_info[missing_info['Missing Values'] > 0])\n"
   ]
  },
  {
   "cell_type": "markdown",
   "id": "3baa5cef",
   "metadata": {},
   "source": [
    "**No Missing Values!**"
   ]
  },
  {
   "cell_type": "code",
   "execution_count": 87,
   "id": "9e79a2fe",
   "metadata": {},
   "outputs": [
    {
     "data": {
      "image/png": "[encoded data removed]",
      "text/plain": [
       "<Figure size 1200x600 with 1 Axes>"
      ]
     },
     "metadata": {},
     "output_type": "display_data"
    }
   ],
   "source": [
    "spectral_cols = df_cleaned.columns[1:447]  \n",
    "\n",
    "# Calculate average reflectance for each wavelength\n",
    "avg_reflectance = df_cleaned[spectral_cols].mean()\n",
    "\n",
    "# Plotting\n",
    "plt.figure(figsize=(12, 6))\n",
    "plt.plot(spectral_cols, avg_reflectance, label='Average Reflectance', color='blue')\n",
    "plt.title('Average Reflectance Over Wavelengths')\n",
    "plt.xlabel('Wavelength (Feature Index)')\n",
    "plt.ylabel('Average Reflectance Value')\n",
    "plt.grid(True)\n",
    "plt.legend()\n",
    "plt.show()"
   ]
  },
  {
   "cell_type": "code",
   "execution_count": 88,
   "id": "de2591d0",
   "metadata": {},
   "outputs": [
    {
     "name": "stderr",
     "output_type": "stream",
     "text": [
      "C:\\Users\\Hamish\\AppData\\Local\\Temp\\ipykernel_13948\\1450609786.py:1: SettingWithCopyWarning: \n",
      "A value is trying to be set on a copy of a slice from a DataFrame\n",
      "\n",
      "See the caveats in the documentation: https://pandas.pydata.org/pandas-docs/stable/user_guide/indexing.html#returning-a-view-versus-a-copy\n",
      "  df_cleaned.drop('vomitoxin_ppb', axis=1, inplace=True)\n"
     ]
    },
    {
     "data": {
      "text/html": [
       "<div>\n",
       "<style scoped>\n",
       "    .dataframe tbody tr th:only-of-type {\n",
       "        vertical-align: middle;\n",
       "    }\n",
       "\n",
       "    .dataframe tbody tr th {\n",
       "        vertical-align: top;\n",
       "    }\n",
       "\n",
       "    .dataframe thead th {\n",
       "        text-align: right;\n",
       "    }\n",
       "</style>\n",
       "<table border=\"1\" class=\"dataframe\">\n",
       "  <thead>\n",
       "    <tr style=\"text-align: right;\">\n",
       "      <th></th>\n",
       "      <th>hsi_id</th>\n",
       "      <th>0</th>\n",
       "      <th>1</th>\n",
       "      <th>2</th>\n",
       "      <th>3</th>\n",
       "      <th>4</th>\n",
       "      <th>5</th>\n",
       "      <th>6</th>\n",
       "      <th>7</th>\n",
       "      <th>8</th>\n",
       "      <th>...</th>\n",
       "      <th>439</th>\n",
       "      <th>440</th>\n",
       "      <th>441</th>\n",
       "      <th>442</th>\n",
       "      <th>443</th>\n",
       "      <th>444</th>\n",
       "      <th>445</th>\n",
       "      <th>446</th>\n",
       "      <th>447</th>\n",
       "      <th>vomitoxin_ppb_log</th>\n",
       "    </tr>\n",
       "  </thead>\n",
       "  <tbody>\n",
       "    <tr>\n",
       "      <th>0</th>\n",
       "      <td>imagoai_corn_0</td>\n",
       "      <td>0.416181</td>\n",
       "      <td>0.396844</td>\n",
       "      <td>0.408985</td>\n",
       "      <td>0.372865</td>\n",
       "      <td>0.385293</td>\n",
       "      <td>0.365390</td>\n",
       "      <td>0.355226</td>\n",
       "      <td>0.343350</td>\n",
       "      <td>0.344837</td>\n",
       "      <td>...</td>\n",
       "      <td>0.710280</td>\n",
       "      <td>0.717482</td>\n",
       "      <td>0.715078</td>\n",
       "      <td>0.705379</td>\n",
       "      <td>0.696691</td>\n",
       "      <td>0.692793</td>\n",
       "      <td>0.711369</td>\n",
       "      <td>0.697679</td>\n",
       "      <td>0.704520</td>\n",
       "      <td>7.003974</td>\n",
       "    </tr>\n",
       "    <tr>\n",
       "      <th>1</th>\n",
       "      <td>imagoai_corn_1</td>\n",
       "      <td>0.415797</td>\n",
       "      <td>0.402956</td>\n",
       "      <td>0.402564</td>\n",
       "      <td>0.396014</td>\n",
       "      <td>0.397192</td>\n",
       "      <td>0.389634</td>\n",
       "      <td>0.375671</td>\n",
       "      <td>0.363689</td>\n",
       "      <td>0.373883</td>\n",
       "      <td>...</td>\n",
       "      <td>0.684011</td>\n",
       "      <td>0.697271</td>\n",
       "      <td>0.701995</td>\n",
       "      <td>0.696077</td>\n",
       "      <td>0.701012</td>\n",
       "      <td>0.677418</td>\n",
       "      <td>0.696921</td>\n",
       "      <td>0.696544</td>\n",
       "      <td>0.689054</td>\n",
       "      <td>6.908755</td>\n",
       "    </tr>\n",
       "    <tr>\n",
       "      <th>2</th>\n",
       "      <td>imagoai_corn_2</td>\n",
       "      <td>0.389023</td>\n",
       "      <td>0.371206</td>\n",
       "      <td>0.373098</td>\n",
       "      <td>0.373872</td>\n",
       "      <td>0.361056</td>\n",
       "      <td>0.349709</td>\n",
       "      <td>0.333882</td>\n",
       "      <td>0.330841</td>\n",
       "      <td>0.328925</td>\n",
       "      <td>...</td>\n",
       "      <td>0.683054</td>\n",
       "      <td>0.669286</td>\n",
       "      <td>0.663179</td>\n",
       "      <td>0.676165</td>\n",
       "      <td>0.676591</td>\n",
       "      <td>0.655951</td>\n",
       "      <td>0.658945</td>\n",
       "      <td>0.670989</td>\n",
       "      <td>0.665176</td>\n",
       "      <td>7.170888</td>\n",
       "    </tr>\n",
       "    <tr>\n",
       "      <th>3</th>\n",
       "      <td>imagoai_corn_3</td>\n",
       "      <td>0.468837</td>\n",
       "      <td>0.473255</td>\n",
       "      <td>0.462949</td>\n",
       "      <td>0.459335</td>\n",
       "      <td>0.461672</td>\n",
       "      <td>0.459824</td>\n",
       "      <td>0.458194</td>\n",
       "      <td>0.427737</td>\n",
       "      <td>0.415360</td>\n",
       "      <td>...</td>\n",
       "      <td>0.742782</td>\n",
       "      <td>0.730801</td>\n",
       "      <td>0.736787</td>\n",
       "      <td>0.730044</td>\n",
       "      <td>0.751437</td>\n",
       "      <td>0.738497</td>\n",
       "      <td>0.742446</td>\n",
       "      <td>0.754657</td>\n",
       "      <td>0.733474</td>\n",
       "      <td>7.170888</td>\n",
       "    </tr>\n",
       "    <tr>\n",
       "      <th>4</th>\n",
       "      <td>imagoai_corn_4</td>\n",
       "      <td>0.483352</td>\n",
       "      <td>0.487274</td>\n",
       "      <td>0.469153</td>\n",
       "      <td>0.487648</td>\n",
       "      <td>0.464026</td>\n",
       "      <td>0.451152</td>\n",
       "      <td>0.458229</td>\n",
       "      <td>0.440782</td>\n",
       "      <td>0.426193</td>\n",
       "      <td>...</td>\n",
       "      <td>0.770227</td>\n",
       "      <td>0.773013</td>\n",
       "      <td>0.761431</td>\n",
       "      <td>0.763488</td>\n",
       "      <td>0.762473</td>\n",
       "      <td>0.744012</td>\n",
       "      <td>0.775486</td>\n",
       "      <td>0.760431</td>\n",
       "      <td>0.751988</td>\n",
       "      <td>5.398163</td>\n",
       "    </tr>\n",
       "  </tbody>\n",
       "</table>\n",
       "<p>5 rows × 450 columns</p>\n",
       "</div>"
      ],
      "text/plain": [
       "           hsi_id         0         1         2         3         4         5  \\\n",
       "0  imagoai_corn_0  0.416181  0.396844  0.408985  0.372865  0.385293  0.365390   \n",
       "1  imagoai_corn_1  0.415797  0.402956  0.402564  0.396014  0.397192  0.389634   \n",
       "2  imagoai_corn_2  0.389023  0.371206  0.373098  0.373872  0.361056  0.349709   \n",
       "3  imagoai_corn_3  0.468837  0.473255  0.462949  0.459335  0.461672  0.459824   \n",
       "4  imagoai_corn_4  0.483352  0.487274  0.469153  0.487648  0.464026  0.451152   \n",
       "\n",
       "          6         7         8  ...       439       440       441       442  \\\n",
       "0  0.355226  0.343350  0.344837  ...  0.710280  0.717482  0.715078  0.705379   \n",
       "1  0.375671  0.363689  0.373883  ...  0.684011  0.697271  0.701995  0.696077   \n",
       "2  0.333882  0.330841  0.328925  ...  0.683054  0.669286  0.663179  0.676165   \n",
       "3  0.458194  0.427737  0.415360  ...  0.742782  0.730801  0.736787  0.730044   \n",
       "4  0.458229  0.440782  0.426193  ...  0.770227  0.773013  0.761431  0.763488   \n",
       "\n",
       "        443       444       445       446       447  vomitoxin_ppb_log  \n",
       "0  0.696691  0.692793  0.711369  0.697679  0.704520           7.003974  \n",
       "1  0.701012  0.677418  0.696921  0.696544  0.689054           6.908755  \n",
       "2  0.676591  0.655951  0.658945  0.670989  0.665176           7.170888  \n",
       "3  0.751437  0.738497  0.742446  0.754657  0.733474           7.170888  \n",
       "4  0.762473  0.744012  0.775486  0.760431  0.751988           5.398163  \n",
       "\n",
       "[5 rows x 450 columns]"
      ]
     },
     "execution_count": 88,
     "metadata": {},
     "output_type": "execute_result"
    }
   ],
   "source": [
    "df_cleaned.drop('vomitoxin_ppb', axis=1, inplace=True)\n",
    "df_cleaned.head()"
   ]
  },
  {
   "cell_type": "code",
   "execution_count": 89,
   "id": "95868022",
   "metadata": {},
   "outputs": [
    {
     "name": "stderr",
     "output_type": "stream",
     "text": [
      "C:\\Users\\Hamish\\AppData\\Local\\Temp\\ipykernel_13948\\4008384390.py:1: SettingWithCopyWarning: \n",
      "A value is trying to be set on a copy of a slice from a DataFrame\n",
      "\n",
      "See the caveats in the documentation: https://pandas.pydata.org/pandas-docs/stable/user_guide/indexing.html#returning-a-view-versus-a-copy\n",
      "  df_cleaned.drop('hsi_id', axis=1, inplace=True)  # Dropping string column 'hsi_id'\n"
     ]
    }
   ],
   "source": [
    "df_cleaned.drop('hsi_id', axis=1, inplace=True)  # Dropping string column 'hsi_id'"
   ]
  },
  {
   "cell_type": "code",
   "execution_count": 90,
   "id": "9a69a8ca",
   "metadata": {},
   "outputs": [
    {
     "data": {
      "text/html": [
       "<div>\n",
       "<style scoped>\n",
       "    .dataframe tbody tr th:only-of-type {\n",
       "        vertical-align: middle;\n",
       "    }\n",
       "\n",
       "    .dataframe tbody tr th {\n",
       "        vertical-align: top;\n",
       "    }\n",
       "\n",
       "    .dataframe thead th {\n",
       "        text-align: right;\n",
       "    }\n",
       "</style>\n",
       "<table border=\"1\" class=\"dataframe\">\n",
       "  <thead>\n",
       "    <tr style=\"text-align: right;\">\n",
       "      <th></th>\n",
       "      <th>0</th>\n",
       "      <th>1</th>\n",
       "      <th>2</th>\n",
       "      <th>3</th>\n",
       "      <th>4</th>\n",
       "      <th>5</th>\n",
       "      <th>6</th>\n",
       "      <th>7</th>\n",
       "      <th>8</th>\n",
       "      <th>9</th>\n",
       "      <th>...</th>\n",
       "      <th>439</th>\n",
       "      <th>440</th>\n",
       "      <th>441</th>\n",
       "      <th>442</th>\n",
       "      <th>443</th>\n",
       "      <th>444</th>\n",
       "      <th>445</th>\n",
       "      <th>446</th>\n",
       "      <th>447</th>\n",
       "      <th>vomitoxin_ppb_log</th>\n",
       "    </tr>\n",
       "  </thead>\n",
       "  <tbody>\n",
       "    <tr>\n",
       "      <th>0</th>\n",
       "      <td>0.416181</td>\n",
       "      <td>0.396844</td>\n",
       "      <td>0.408985</td>\n",
       "      <td>0.372865</td>\n",
       "      <td>0.385293</td>\n",
       "      <td>0.365390</td>\n",
       "      <td>0.355226</td>\n",
       "      <td>0.343350</td>\n",
       "      <td>0.344837</td>\n",
       "      <td>0.361567</td>\n",
       "      <td>...</td>\n",
       "      <td>0.710280</td>\n",
       "      <td>0.717482</td>\n",
       "      <td>0.715078</td>\n",
       "      <td>0.705379</td>\n",
       "      <td>0.696691</td>\n",
       "      <td>0.692793</td>\n",
       "      <td>0.711369</td>\n",
       "      <td>0.697679</td>\n",
       "      <td>0.704520</td>\n",
       "      <td>7.003974</td>\n",
       "    </tr>\n",
       "    <tr>\n",
       "      <th>1</th>\n",
       "      <td>0.415797</td>\n",
       "      <td>0.402956</td>\n",
       "      <td>0.402564</td>\n",
       "      <td>0.396014</td>\n",
       "      <td>0.397192</td>\n",
       "      <td>0.389634</td>\n",
       "      <td>0.375671</td>\n",
       "      <td>0.363689</td>\n",
       "      <td>0.373883</td>\n",
       "      <td>0.359674</td>\n",
       "      <td>...</td>\n",
       "      <td>0.684011</td>\n",
       "      <td>0.697271</td>\n",
       "      <td>0.701995</td>\n",
       "      <td>0.696077</td>\n",
       "      <td>0.701012</td>\n",
       "      <td>0.677418</td>\n",
       "      <td>0.696921</td>\n",
       "      <td>0.696544</td>\n",
       "      <td>0.689054</td>\n",
       "      <td>6.908755</td>\n",
       "    </tr>\n",
       "    <tr>\n",
       "      <th>2</th>\n",
       "      <td>0.389023</td>\n",
       "      <td>0.371206</td>\n",
       "      <td>0.373098</td>\n",
       "      <td>0.373872</td>\n",
       "      <td>0.361056</td>\n",
       "      <td>0.349709</td>\n",
       "      <td>0.333882</td>\n",
       "      <td>0.330841</td>\n",
       "      <td>0.328925</td>\n",
       "      <td>0.323854</td>\n",
       "      <td>...</td>\n",
       "      <td>0.683054</td>\n",
       "      <td>0.669286</td>\n",
       "      <td>0.663179</td>\n",
       "      <td>0.676165</td>\n",
       "      <td>0.676591</td>\n",
       "      <td>0.655951</td>\n",
       "      <td>0.658945</td>\n",
       "      <td>0.670989</td>\n",
       "      <td>0.665176</td>\n",
       "      <td>7.170888</td>\n",
       "    </tr>\n",
       "    <tr>\n",
       "      <th>3</th>\n",
       "      <td>0.468837</td>\n",
       "      <td>0.473255</td>\n",
       "      <td>0.462949</td>\n",
       "      <td>0.459335</td>\n",
       "      <td>0.461672</td>\n",
       "      <td>0.459824</td>\n",
       "      <td>0.458194</td>\n",
       "      <td>0.427737</td>\n",
       "      <td>0.415360</td>\n",
       "      <td>0.413106</td>\n",
       "      <td>...</td>\n",
       "      <td>0.742782</td>\n",
       "      <td>0.730801</td>\n",
       "      <td>0.736787</td>\n",
       "      <td>0.730044</td>\n",
       "      <td>0.751437</td>\n",
       "      <td>0.738497</td>\n",
       "      <td>0.742446</td>\n",
       "      <td>0.754657</td>\n",
       "      <td>0.733474</td>\n",
       "      <td>7.170888</td>\n",
       "    </tr>\n",
       "    <tr>\n",
       "      <th>4</th>\n",
       "      <td>0.483352</td>\n",
       "      <td>0.487274</td>\n",
       "      <td>0.469153</td>\n",
       "      <td>0.487648</td>\n",
       "      <td>0.464026</td>\n",
       "      <td>0.451152</td>\n",
       "      <td>0.458229</td>\n",
       "      <td>0.440782</td>\n",
       "      <td>0.426193</td>\n",
       "      <td>0.430482</td>\n",
       "      <td>...</td>\n",
       "      <td>0.770227</td>\n",
       "      <td>0.773013</td>\n",
       "      <td>0.761431</td>\n",
       "      <td>0.763488</td>\n",
       "      <td>0.762473</td>\n",
       "      <td>0.744012</td>\n",
       "      <td>0.775486</td>\n",
       "      <td>0.760431</td>\n",
       "      <td>0.751988</td>\n",
       "      <td>5.398163</td>\n",
       "    </tr>\n",
       "  </tbody>\n",
       "</table>\n",
       "<p>5 rows × 449 columns</p>\n",
       "</div>"
      ],
      "text/plain": [
       "          0         1         2         3         4         5         6  \\\n",
       "0  0.416181  0.396844  0.408985  0.372865  0.385293  0.365390  0.355226   \n",
       "1  0.415797  0.402956  0.402564  0.396014  0.397192  0.389634  0.375671   \n",
       "2  0.389023  0.371206  0.373098  0.373872  0.361056  0.349709  0.333882   \n",
       "3  0.468837  0.473255  0.462949  0.459335  0.461672  0.459824  0.458194   \n",
       "4  0.483352  0.487274  0.469153  0.487648  0.464026  0.451152  0.458229   \n",
       "\n",
       "          7         8         9  ...       439       440       441       442  \\\n",
       "0  0.343350  0.344837  0.361567  ...  0.710280  0.717482  0.715078  0.705379   \n",
       "1  0.363689  0.373883  0.359674  ...  0.684011  0.697271  0.701995  0.696077   \n",
       "2  0.330841  0.328925  0.323854  ...  0.683054  0.669286  0.663179  0.676165   \n",
       "3  0.427737  0.415360  0.413106  ...  0.742782  0.730801  0.736787  0.730044   \n",
       "4  0.440782  0.426193  0.430482  ...  0.770227  0.773013  0.761431  0.763488   \n",
       "\n",
       "        443       444       445       446       447  vomitoxin_ppb_log  \n",
       "0  0.696691  0.692793  0.711369  0.697679  0.704520           7.003974  \n",
       "1  0.701012  0.677418  0.696921  0.696544  0.689054           6.908755  \n",
       "2  0.676591  0.655951  0.658945  0.670989  0.665176           7.170888  \n",
       "3  0.751437  0.738497  0.742446  0.754657  0.733474           7.170888  \n",
       "4  0.762473  0.744012  0.775486  0.760431  0.751988           5.398163  \n",
       "\n",
       "[5 rows x 449 columns]"
      ]
     },
     "execution_count": 90,
     "metadata": {},
     "output_type": "execute_result"
    }
   ],
   "source": [
    "df_cleaned.head()"
   ]
  },
  {
   "cell_type": "markdown",
   "id": "17c7be56",
   "metadata": {},
   "source": [
    "# 3. Model Development and Optimization\n",
    "### 3.1 Baseline Model — Neural Network\n",
    "- A Neural Network model was implemented with three hidden layers and ReLU activation.\n",
    "- Despite tuning, the model yielded unsatisfactory results:\n",
    "    - MAE: 1.2105\n",
    "    - RMSE: 1.5128\n",
    "     -R² Score: -0.0761\n",
    "\n",
    "### 4.2 Switching to XGBoost\n",
    "- Considering the dataset's tabular structure, XGBoost was selected due to its strong performance on structured data. The initial model produced improved results:\n",
    "    - MAE: 0.9429\n",
    "    - RMSE: 1.2273\n",
    "    - R² Score: 0.2888\n",
    "\n",
    "### 4.3 Hyperparameter Optimization Using Optuna\n",
    "- To further enhance the model's performance, Optuna was employed for efficient hyperparameter tuning. The following parameters were optimized:\n",
    "\n",
    "   - n_estimators: Number of trees\n",
    "   - max_depth: Tree depth for complexity control\n",
    "   - learning_rate: Step size for weight updates\n",
    "   - subsample: Fraction of data samples per tree\n",
    "   - colsample_bytree: Fraction of features sampled for each tree\n",
    "   - The tuned XGBoost model achieved the following results:\n",
    "\n",
    "    - MAE: 0.8313\n",
    "    - RMSE: 1.1047\n",
    "    - R² Score: 0.4238\n",
    "    \n",
    "#### This substantial improvement demonstrates the effectiveness of hyperparameter tuning."
   ]
  },
  {
   "cell_type": "code",
   "execution_count": 91,
   "id": "40100b74",
   "metadata": {},
   "outputs": [],
   "source": [
    "# Features and Target\n",
    "X = df_cleaned.drop('vomitoxin_ppb_log', axis=1)\n",
    "y = df_cleaned['vomitoxin_ppb_log']"
   ]
  },
  {
   "cell_type": "code",
   "execution_count": 92,
   "id": "4b17b49d",
   "metadata": {},
   "outputs": [],
   "source": [
    "X_train, X_test, y_train, y_test = train_test_split(X, y, test_size=0.2, random_state=42)"
   ]
  },
  {
   "cell_type": "code",
   "execution_count": 93,
   "id": "49e7dd0c",
   "metadata": {},
   "outputs": [],
   "source": [
    "scaler = StandardScaler()\n",
    "X_train_scaled = scaler.fit_transform(X_train)  # Fit and transform on training data\n",
    "X_test_scaled = scaler.transform(X_test)        # Only transform on test data"
   ]
  },
  {
   "cell_type": "code",
   "execution_count": 94,
   "id": "87e4dc09",
   "metadata": {},
   "outputs": [],
   "source": [
    "model = keras.models.Sequential([\n",
    "    layers.Input(shape=(X_train_scaled.shape[1],)),\n",
    "    layers.Dense(128, activation='relu'),\n",
    "    layers.Dropout(0.3),  \n",
    "    layers.Dense(64, activation='relu'),\n",
    "    layers.Dense(32, activation='relu'),\n",
    "    layers.Dense(1)\n",
    "])"
   ]
  },
  {
   "cell_type": "code",
   "execution_count": 95,
   "id": "05696629",
   "metadata": {},
   "outputs": [],
   "source": [
    "model.compile(optimizer=keras.optimizers.Adam(learning_rate=0.001), \n",
    "               loss='mean_squared_error', \n",
    "               metrics=['mae'])"
   ]
  },
  {
   "cell_type": "code",
   "execution_count": 96,
   "id": "4b21370d",
   "metadata": {},
   "outputs": [],
   "source": [
    "from tensorflow.keras.callbacks import EarlyStopping\n",
    "\n",
    "early_stop = EarlyStopping(monitor='val_loss', patience=10, restore_best_weights=True)\n"
   ]
  },
  {
   "cell_type": "code",
   "execution_count": 97,
   "id": "1ef3c307",
   "metadata": {
    "scrolled": true
   },
   "outputs": [
    {
     "name": "stdout",
     "output_type": "stream",
     "text": [
      "Epoch 1/100\n",
      "\u001b[1m9/9\u001b[0m \u001b[32m━━━━━━━━━━━━━━━━━━━━\u001b[0m\u001b[37m\u001b[0m \u001b[1m2s\u001b[0m 42ms/step - loss: 25.5341 - mae: 4.4484 - val_loss: 19.4736 - val_mae: 3.6348\n",
      "Epoch 2/100\n",
      "\u001b[1m9/9\u001b[0m \u001b[32m━━━━━━━━━━━━━━━━━━━━\u001b[0m\u001b[37m\u001b[0m \u001b[1m0s\u001b[0m 11ms/step - loss: 16.0850 - mae: 3.2532 - val_loss: 19.0826 - val_mae: 3.8943\n",
      "Epoch 3/100\n",
      "\u001b[1m9/9\u001b[0m \u001b[32m━━━━━━━━━━━━━━━━━━━━\u001b[0m\u001b[37m\u001b[0m \u001b[1m0s\u001b[0m 10ms/step - loss: 14.9789 - mae: 3.1831 - val_loss: 15.6797 - val_mae: 3.4984\n",
      "Epoch 4/100\n",
      "\u001b[1m9/9\u001b[0m \u001b[32m━━━━━━━━━━━━━━━━━━━━\u001b[0m\u001b[37m\u001b[0m \u001b[1m0s\u001b[0m 8ms/step - loss: 12.1792 - mae: 2.9535 - val_loss: 15.2517 - val_mae: 3.4723\n",
      "Epoch 5/100\n",
      "\u001b[1m9/9\u001b[0m \u001b[32m━━━━━━━━━━━━━━━━━━━━\u001b[0m\u001b[37m\u001b[0m \u001b[1m0s\u001b[0m 11ms/step - loss: 14.3675 - mae: 3.0512 - val_loss: 13.2466 - val_mae: 3.2424\n",
      "Epoch 6/100\n",
      "\u001b[1m9/9\u001b[0m \u001b[32m━━━━━━━━━━━━━━━━━━━━\u001b[0m\u001b[37m\u001b[0m \u001b[1m0s\u001b[0m 8ms/step - loss: 10.4533 - mae: 2.6038 - val_loss: 11.5620 - val_mae: 2.9177\n",
      "Epoch 7/100\n",
      "\u001b[1m9/9\u001b[0m \u001b[32m━━━━━━━━━━━━━━━━━━━━\u001b[0m\u001b[37m\u001b[0m \u001b[1m0s\u001b[0m 8ms/step - loss: 10.7374 - mae: 2.5778 - val_loss: 10.4153 - val_mae: 2.7441\n",
      "Epoch 8/100\n",
      "\u001b[1m9/9\u001b[0m \u001b[32m━━━━━━━━━━━━━━━━━━━━\u001b[0m\u001b[37m\u001b[0m \u001b[1m0s\u001b[0m 8ms/step - loss: 8.7139 - mae: 2.4443 - val_loss: 9.3716 - val_mae: 2.6252\n",
      "Epoch 9/100\n",
      "\u001b[1m9/9\u001b[0m \u001b[32m━━━━━━━━━━━━━━━━━━━━\u001b[0m\u001b[37m\u001b[0m \u001b[1m0s\u001b[0m 10ms/step - loss: 7.9233 - mae: 2.1518 - val_loss: 10.1628 - val_mae: 2.7229\n",
      "Epoch 10/100\n",
      "\u001b[1m9/9\u001b[0m \u001b[32m━━━━━━━━━━━━━━━━━━━━\u001b[0m\u001b[37m\u001b[0m \u001b[1m0s\u001b[0m 9ms/step - loss: 9.1199 - mae: 2.5409 - val_loss: 10.0668 - val_mae: 2.7443\n",
      "Epoch 11/100\n",
      "\u001b[1m9/9\u001b[0m \u001b[32m━━━━━━━━━━━━━━━━━━━━\u001b[0m\u001b[37m\u001b[0m \u001b[1m0s\u001b[0m 9ms/step - loss: 6.5400 - mae: 2.0893 - val_loss: 9.3112 - val_mae: 2.5085\n",
      "Epoch 12/100\n",
      "\u001b[1m9/9\u001b[0m \u001b[32m━━━━━━━━━━━━━━━━━━━━\u001b[0m\u001b[37m\u001b[0m \u001b[1m0s\u001b[0m 7ms/step - loss: 7.3628 - mae: 2.2227 - val_loss: 9.2671 - val_mae: 2.6282\n",
      "Epoch 13/100\n",
      "\u001b[1m9/9\u001b[0m \u001b[32m━━━━━━━━━━━━━━━━━━━━\u001b[0m\u001b[37m\u001b[0m \u001b[1m0s\u001b[0m 11ms/step - loss: 6.3515 - mae: 2.0196 - val_loss: 8.2466 - val_mae: 2.5012\n",
      "Epoch 14/100\n",
      "\u001b[1m9/9\u001b[0m \u001b[32m━━━━━━━━━━━━━━━━━━━━\u001b[0m\u001b[37m\u001b[0m \u001b[1m0s\u001b[0m 11ms/step - loss: 6.0100 - mae: 1.9834 - val_loss: 8.0713 - val_mae: 2.3513\n",
      "Epoch 15/100\n",
      "\u001b[1m9/9\u001b[0m \u001b[32m━━━━━━━━━━━━━━━━━━━━\u001b[0m\u001b[37m\u001b[0m \u001b[1m0s\u001b[0m 9ms/step - loss: 5.4131 - mae: 1.8394 - val_loss: 8.1324 - val_mae: 2.4727\n",
      "Epoch 16/100\n",
      "\u001b[1m9/9\u001b[0m \u001b[32m━━━━━━━━━━━━━━━━━━━━\u001b[0m\u001b[37m\u001b[0m \u001b[1m0s\u001b[0m 9ms/step - loss: 6.0660 - mae: 1.9852 - val_loss: 8.0080 - val_mae: 2.4462\n",
      "Epoch 17/100\n",
      "\u001b[1m9/9\u001b[0m \u001b[32m━━━━━━━━━━━━━━━━━━━━\u001b[0m\u001b[37m\u001b[0m \u001b[1m0s\u001b[0m 10ms/step - loss: 5.8819 - mae: 1.9577 - val_loss: 6.8863 - val_mae: 2.1949\n",
      "Epoch 18/100\n",
      "\u001b[1m9/9\u001b[0m \u001b[32m━━━━━━━━━━━━━━━━━━━━\u001b[0m\u001b[37m\u001b[0m \u001b[1m0s\u001b[0m 11ms/step - loss: 5.6865 - mae: 1.9225 - val_loss: 7.2300 - val_mae: 2.2887\n",
      "Epoch 19/100\n",
      "\u001b[1m9/9\u001b[0m \u001b[32m━━━━━━━━━━━━━━━━━━━━\u001b[0m\u001b[37m\u001b[0m \u001b[1m0s\u001b[0m 12ms/step - loss: 4.5367 - mae: 1.6987 - val_loss: 6.2892 - val_mae: 2.0293\n",
      "Epoch 20/100\n",
      "\u001b[1m9/9\u001b[0m \u001b[32m━━━━━━━━━━━━━━━━━━━━\u001b[0m\u001b[37m\u001b[0m \u001b[1m0s\u001b[0m 9ms/step - loss: 4.9208 - mae: 1.7732 - val_loss: 7.0995 - val_mae: 2.3076\n",
      "Epoch 21/100\n",
      "\u001b[1m9/9\u001b[0m \u001b[32m━━━━━━━━━━━━━━━━━━━━\u001b[0m\u001b[37m\u001b[0m \u001b[1m0s\u001b[0m 13ms/step - loss: 4.6377 - mae: 1.6884 - val_loss: 6.0724 - val_mae: 2.0982\n",
      "Epoch 22/100\n",
      "\u001b[1m9/9\u001b[0m \u001b[32m━━━━━━━━━━━━━━━━━━━━\u001b[0m\u001b[37m\u001b[0m \u001b[1m0s\u001b[0m 12ms/step - loss: 6.9493 - mae: 1.9728 - val_loss: 9.0813 - val_mae: 2.5585\n",
      "Epoch 23/100\n",
      "\u001b[1m9/9\u001b[0m \u001b[32m━━━━━━━━━━━━━━━━━━━━\u001b[0m\u001b[37m\u001b[0m \u001b[1m0s\u001b[0m 8ms/step - loss: 5.7918 - mae: 2.0188 - val_loss: 7.1488 - val_mae: 2.1513\n",
      "Epoch 24/100\n",
      "\u001b[1m9/9\u001b[0m \u001b[32m━━━━━━━━━━━━━━━━━━━━\u001b[0m\u001b[37m\u001b[0m \u001b[1m0s\u001b[0m 12ms/step - loss: 6.2278 - mae: 1.9660 - val_loss: 7.5058 - val_mae: 2.3934\n",
      "Epoch 25/100\n",
      "\u001b[1m9/9\u001b[0m \u001b[32m━━━━━━━━━━━━━━━━━━━━\u001b[0m\u001b[37m\u001b[0m \u001b[1m0s\u001b[0m 10ms/step - loss: 5.2871 - mae: 1.9337 - val_loss: 6.3383 - val_mae: 2.1472\n",
      "Epoch 26/100\n",
      "\u001b[1m9/9\u001b[0m \u001b[32m━━━━━━━━━━━━━━━━━━━━\u001b[0m\u001b[37m\u001b[0m \u001b[1m0s\u001b[0m 12ms/step - loss: 4.7953 - mae: 1.6601 - val_loss: 5.9574 - val_mae: 2.0376\n",
      "Epoch 27/100\n",
      "\u001b[1m9/9\u001b[0m \u001b[32m━━━━━━━━━━━━━━━━━━━━\u001b[0m\u001b[37m\u001b[0m \u001b[1m0s\u001b[0m 10ms/step - loss: 5.1771 - mae: 1.8471 - val_loss: 6.1762 - val_mae: 2.1028\n",
      "Epoch 28/100\n",
      "\u001b[1m9/9\u001b[0m \u001b[32m━━━━━━━━━━━━━━━━━━━━\u001b[0m\u001b[37m\u001b[0m \u001b[1m0s\u001b[0m 8ms/step - loss: 5.6833 - mae: 1.7681 - val_loss: 5.8677 - val_mae: 2.0281\n",
      "Epoch 29/100\n",
      "\u001b[1m9/9\u001b[0m \u001b[32m━━━━━━━━━━━━━━━━━━━━\u001b[0m\u001b[37m\u001b[0m \u001b[1m0s\u001b[0m 8ms/step - loss: 5.1663 - mae: 1.8594 - val_loss: 6.6214 - val_mae: 2.1949\n",
      "Epoch 30/100\n",
      "\u001b[1m9/9\u001b[0m \u001b[32m━━━━━━━━━━━━━━━━━━━━\u001b[0m\u001b[37m\u001b[0m \u001b[1m0s\u001b[0m 10ms/step - loss: 4.5153 - mae: 1.6916 - val_loss: 5.6874 - val_mae: 1.9598\n",
      "Epoch 31/100\n",
      "\u001b[1m9/9\u001b[0m \u001b[32m━━━━━━━━━━━━━━━━━━━━\u001b[0m\u001b[37m\u001b[0m \u001b[1m0s\u001b[0m 9ms/step - loss: 3.7206 - mae: 1.5334 - val_loss: 5.5803 - val_mae: 1.9953\n",
      "Epoch 32/100\n",
      "\u001b[1m9/9\u001b[0m \u001b[32m━━━━━━━━━━━━━━━━━━━━\u001b[0m\u001b[37m\u001b[0m \u001b[1m0s\u001b[0m 8ms/step - loss: 4.3631 - mae: 1.6264 - val_loss: 5.7556 - val_mae: 2.0365\n",
      "Epoch 33/100\n",
      "\u001b[1m9/9\u001b[0m \u001b[32m━━━━━━━━━━━━━━━━━━━━\u001b[0m\u001b[37m\u001b[0m \u001b[1m0s\u001b[0m 10ms/step - loss: 3.5453 - mae: 1.4979 - val_loss: 4.7827 - val_mae: 1.7907\n",
      "Epoch 34/100\n",
      "\u001b[1m9/9\u001b[0m \u001b[32m━━━━━━━━━━━━━━━━━━━━\u001b[0m\u001b[37m\u001b[0m \u001b[1m0s\u001b[0m 9ms/step - loss: 3.5200 - mae: 1.5070 - val_loss: 5.2008 - val_mae: 1.8259\n",
      "Epoch 35/100\n",
      "\u001b[1m9/9\u001b[0m \u001b[32m━━━━━━━━━━━━━━━━━━━━\u001b[0m\u001b[37m\u001b[0m \u001b[1m0s\u001b[0m 8ms/step - loss: 3.1743 - mae: 1.3581 - val_loss: 4.5576 - val_mae: 1.7622\n",
      "Epoch 36/100\n",
      "\u001b[1m9/9\u001b[0m \u001b[32m━━━━━━━━━━━━━━━━━━━━\u001b[0m\u001b[37m\u001b[0m \u001b[1m0s\u001b[0m 8ms/step - loss: 3.3632 - mae: 1.4353 - val_loss: 4.4176 - val_mae: 1.7161\n",
      "Epoch 37/100\n",
      "\u001b[1m9/9\u001b[0m \u001b[32m━━━━━━━━━━━━━━━━━━━━\u001b[0m\u001b[37m\u001b[0m \u001b[1m0s\u001b[0m 8ms/step - loss: 3.2958 - mae: 1.4244 - val_loss: 4.1138 - val_mae: 1.7152\n",
      "Epoch 38/100\n",
      "\u001b[1m9/9\u001b[0m \u001b[32m━━━━━━━━━━━━━━━━━━━━\u001b[0m\u001b[37m\u001b[0m \u001b[1m0s\u001b[0m 8ms/step - loss: 3.0839 - mae: 1.4217 - val_loss: 5.4455 - val_mae: 1.9364\n",
      "Epoch 39/100\n",
      "\u001b[1m9/9\u001b[0m \u001b[32m━━━━━━━━━━━━━━━━━━━━\u001b[0m\u001b[37m\u001b[0m \u001b[1m0s\u001b[0m 8ms/step - loss: 4.1327 - mae: 1.6194 - val_loss: 4.0866 - val_mae: 1.6593\n",
      "Epoch 40/100\n",
      "\u001b[1m9/9\u001b[0m \u001b[32m━━━━━━━━━━━━━━━━━━━━\u001b[0m\u001b[37m\u001b[0m \u001b[1m0s\u001b[0m 9ms/step - loss: 2.8321 - mae: 1.3044 - val_loss: 4.0682 - val_mae: 1.6637\n",
      "Epoch 41/100\n",
      "\u001b[1m9/9\u001b[0m \u001b[32m━━━━━━━━━━━━━━━━━━━━\u001b[0m\u001b[37m\u001b[0m \u001b[1m0s\u001b[0m 10ms/step - loss: 2.8872 - mae: 1.3675 - val_loss: 4.1432 - val_mae: 1.5894\n",
      "Epoch 42/100\n",
      "\u001b[1m9/9\u001b[0m \u001b[32m━━━━━━━━━━━━━━━━━━━━\u001b[0m\u001b[37m\u001b[0m \u001b[1m0s\u001b[0m 10ms/step - loss: 2.9528 - mae: 1.3313 - val_loss: 3.6668 - val_mae: 1.5826\n",
      "Epoch 43/100\n",
      "\u001b[1m9/9\u001b[0m \u001b[32m━━━━━━━━━━━━━━━━━━━━\u001b[0m\u001b[37m\u001b[0m \u001b[1m0s\u001b[0m 7ms/step - loss: 2.9136 - mae: 1.3612 - val_loss: 3.7170 - val_mae: 1.5897\n",
      "Epoch 44/100\n",
      "\u001b[1m9/9\u001b[0m \u001b[32m━━━━━━━━━━━━━━━━━━━━\u001b[0m\u001b[37m\u001b[0m \u001b[1m0s\u001b[0m 11ms/step - loss: 2.1499 - mae: 1.1649 - val_loss: 3.2816 - val_mae: 1.4617\n",
      "Epoch 45/100\n",
      "\u001b[1m9/9\u001b[0m \u001b[32m━━━━━━━━━━━━━━━━━━━━\u001b[0m\u001b[37m\u001b[0m \u001b[1m0s\u001b[0m 9ms/step - loss: 2.2611 - mae: 1.2078 - val_loss: 3.3987 - val_mae: 1.4649\n",
      "Epoch 46/100\n",
      "\u001b[1m9/9\u001b[0m \u001b[32m━━━━━━━━━━━━━━━━━━━━\u001b[0m\u001b[37m\u001b[0m \u001b[1m0s\u001b[0m 8ms/step - loss: 2.8483 - mae: 1.3545 - val_loss: 4.0310 - val_mae: 1.6560\n",
      "Epoch 47/100\n",
      "\u001b[1m9/9\u001b[0m \u001b[32m━━━━━━━━━━━━━━━━━━━━\u001b[0m\u001b[37m\u001b[0m \u001b[1m0s\u001b[0m 7ms/step - loss: 3.4562 - mae: 1.4756 - val_loss: 5.1920 - val_mae: 1.7630\n",
      "Epoch 48/100\n",
      "\u001b[1m9/9\u001b[0m \u001b[32m━━━━━━━━━━━━━━━━━━━━\u001b[0m\u001b[37m\u001b[0m \u001b[1m0s\u001b[0m 9ms/step - loss: 2.7017 - mae: 1.2901 - val_loss: 3.4759 - val_mae: 1.5217\n",
      "Epoch 49/100\n",
      "\u001b[1m9/9\u001b[0m \u001b[32m━━━━━━━━━━━━━━━━━━━━\u001b[0m\u001b[37m\u001b[0m \u001b[1m0s\u001b[0m 9ms/step - loss: 2.6147 - mae: 1.3129 - val_loss: 3.8093 - val_mae: 1.6339\n",
      "Epoch 50/100\n",
      "\u001b[1m9/9\u001b[0m \u001b[32m━━━━━━━━━━━━━━━━━━━━\u001b[0m\u001b[37m\u001b[0m \u001b[1m0s\u001b[0m 9ms/step - loss: 2.5389 - mae: 1.2896 - val_loss: 3.4486 - val_mae: 1.4939\n",
      "Epoch 51/100\n",
      "\u001b[1m9/9\u001b[0m \u001b[32m━━━━━━━━━━━━━━━━━━━━\u001b[0m\u001b[37m\u001b[0m \u001b[1m0s\u001b[0m 12ms/step - loss: 2.8408 - mae: 1.2762 - val_loss: 3.2672 - val_mae: 1.4959\n",
      "Epoch 52/100\n",
      "\u001b[1m9/9\u001b[0m \u001b[32m━━━━━━━━━━━━━━━━━━━━\u001b[0m\u001b[37m\u001b[0m \u001b[1m0s\u001b[0m 7ms/step - loss: 2.2923 - mae: 1.2155 - val_loss: 3.2963 - val_mae: 1.3763\n",
      "Epoch 53/100\n",
      "\u001b[1m9/9\u001b[0m \u001b[32m━━━━━━━━━━━━━━━━━━━━\u001b[0m\u001b[37m\u001b[0m \u001b[1m0s\u001b[0m 12ms/step - loss: 2.1279 - mae: 1.1522 - val_loss: 2.8048 - val_mae: 1.3837\n",
      "Epoch 54/100\n",
      "\u001b[1m9/9\u001b[0m \u001b[32m━━━━━━━━━━━━━━━━━━━━\u001b[0m\u001b[37m\u001b[0m \u001b[1m0s\u001b[0m 10ms/step - loss: 1.9295 - mae: 1.1467 - val_loss: 4.0602 - val_mae: 1.6461\n",
      "Epoch 55/100\n",
      "\u001b[1m9/9\u001b[0m \u001b[32m━━━━━━━━━━━━━━━━━━━━\u001b[0m\u001b[37m\u001b[0m \u001b[1m0s\u001b[0m 7ms/step - loss: 2.4763 - mae: 1.2227 - val_loss: 2.6498 - val_mae: 1.3464\n",
      "Epoch 56/100\n",
      "\u001b[1m9/9\u001b[0m \u001b[32m━━━━━━━━━━━━━━━━━━━━\u001b[0m\u001b[37m\u001b[0m \u001b[1m0s\u001b[0m 8ms/step - loss: 2.5127 - mae: 1.2410 - val_loss: 2.8957 - val_mae: 1.3817\n",
      "Epoch 57/100\n",
      "\u001b[1m9/9\u001b[0m \u001b[32m━━━━━━━━━━━━━━━━━━━━\u001b[0m\u001b[37m\u001b[0m \u001b[1m0s\u001b[0m 9ms/step - loss: 1.9331 - mae: 1.0881 - val_loss: 3.6304 - val_mae: 1.5555\n",
      "Epoch 58/100\n",
      "\u001b[1m9/9\u001b[0m \u001b[32m━━━━━━━━━━━━━━━━━━━━\u001b[0m\u001b[37m\u001b[0m \u001b[1m0s\u001b[0m 10ms/step - loss: 2.1718 - mae: 1.1184 - val_loss: 2.6992 - val_mae: 1.3748\n",
      "Epoch 59/100\n",
      "\u001b[1m9/9\u001b[0m \u001b[32m━━━━━━━━━━━━━━━━━━━━\u001b[0m\u001b[37m\u001b[0m \u001b[1m0s\u001b[0m 10ms/step - loss: 2.0861 - mae: 1.1062 - val_loss: 3.2149 - val_mae: 1.5077\n",
      "Epoch 60/100\n",
      "\u001b[1m9/9\u001b[0m \u001b[32m━━━━━━━━━━━━━━━━━━━━\u001b[0m\u001b[37m\u001b[0m \u001b[1m0s\u001b[0m 9ms/step - loss: 1.8671 - mae: 1.1047 - val_loss: 2.5239 - val_mae: 1.2883\n",
      "Epoch 61/100\n",
      "\u001b[1m9/9\u001b[0m \u001b[32m━━━━━━━━━━━━━━━━━━━━\u001b[0m\u001b[37m\u001b[0m \u001b[1m0s\u001b[0m 9ms/step - loss: 1.9141 - mae: 1.0585 - val_loss: 2.5641 - val_mae: 1.2755\n",
      "Epoch 62/100\n",
      "\u001b[1m9/9\u001b[0m \u001b[32m━━━━━━━━━━━━━━━━━━━━\u001b[0m\u001b[37m\u001b[0m \u001b[1m0s\u001b[0m 12ms/step - loss: 1.5706 - mae: 0.9744 - val_loss: 2.4969 - val_mae: 1.2338\n",
      "Epoch 63/100\n",
      "\u001b[1m9/9\u001b[0m \u001b[32m━━━━━━━━━━━━━━━━━━━━\u001b[0m\u001b[37m\u001b[0m \u001b[1m0s\u001b[0m 10ms/step - loss: 1.7685 - mae: 1.0472 - val_loss: 2.3203 - val_mae: 1.2654\n",
      "Epoch 64/100\n",
      "\u001b[1m9/9\u001b[0m \u001b[32m━━━━━━━━━━━━━━━━━━━━\u001b[0m\u001b[37m\u001b[0m \u001b[1m0s\u001b[0m 8ms/step - loss: 1.5215 - mae: 1.0027 - val_loss: 2.3731 - val_mae: 1.2339\n",
      "Epoch 65/100\n",
      "\u001b[1m9/9\u001b[0m \u001b[32m━━━━━━━━━━━━━━━━━━━━\u001b[0m\u001b[37m\u001b[0m \u001b[1m0s\u001b[0m 8ms/step - loss: 1.4770 - mae: 0.9801 - val_loss: 2.2822 - val_mae: 1.2271\n",
      "Epoch 66/100\n",
      "\u001b[1m9/9\u001b[0m \u001b[32m━━━━━━━━━━━━━━━━━━━━\u001b[0m\u001b[37m\u001b[0m \u001b[1m0s\u001b[0m 9ms/step - loss: 1.5252 - mae: 0.9714 - val_loss: 3.0055 - val_mae: 1.3241\n",
      "Epoch 67/100\n",
      "\u001b[1m9/9\u001b[0m \u001b[32m━━━━━━━━━━━━━━━━━━━━\u001b[0m\u001b[37m\u001b[0m \u001b[1m0s\u001b[0m 11ms/step - loss: 2.0017 - mae: 1.1156 - val_loss: 2.5253 - val_mae: 1.2642\n",
      "Epoch 68/100\n",
      "\u001b[1m9/9\u001b[0m \u001b[32m━━━━━━━━━━━━━━━━━━━━\u001b[0m\u001b[37m\u001b[0m \u001b[1m0s\u001b[0m 11ms/step - loss: 2.1162 - mae: 1.1184 - val_loss: 3.1129 - val_mae: 1.4812\n",
      "Epoch 69/100\n",
      "\u001b[1m9/9\u001b[0m \u001b[32m━━━━━━━━━━━━━━━━━━━━\u001b[0m\u001b[37m\u001b[0m \u001b[1m0s\u001b[0m 8ms/step - loss: 2.0078 - mae: 1.1355 - val_loss: 2.8664 - val_mae: 1.2477\n",
      "Epoch 70/100\n",
      "\u001b[1m9/9\u001b[0m \u001b[32m━━━━━━━━━━━━━━━━━━━━\u001b[0m\u001b[37m\u001b[0m \u001b[1m0s\u001b[0m 10ms/step - loss: 2.0818 - mae: 1.0660 - val_loss: 2.6633 - val_mae: 1.3359\n",
      "Epoch 71/100\n",
      "\u001b[1m9/9\u001b[0m \u001b[32m━━━━━━━━━━━━━━━━━━━━\u001b[0m\u001b[37m\u001b[0m \u001b[1m0s\u001b[0m 11ms/step - loss: 1.8637 - mae: 1.1008 - val_loss: 2.7218 - val_mae: 1.2477\n",
      "Epoch 72/100\n",
      "\u001b[1m9/9\u001b[0m \u001b[32m━━━━━━━━━━━━━━━━━━━━\u001b[0m\u001b[37m\u001b[0m \u001b[1m0s\u001b[0m 9ms/step - loss: 1.8745 - mae: 1.0606 - val_loss: 2.3592 - val_mae: 1.2233\n",
      "Epoch 73/100\n",
      "\u001b[1m9/9\u001b[0m \u001b[32m━━━━━━━━━━━━━━━━━━━━\u001b[0m\u001b[37m\u001b[0m \u001b[1m0s\u001b[0m 10ms/step - loss: 1.5219 - mae: 0.9561 - val_loss: 2.4883 - val_mae: 1.2417\n",
      "Epoch 74/100\n",
      "\u001b[1m9/9\u001b[0m \u001b[32m━━━━━━━━━━━━━━━━━━━━\u001b[0m\u001b[37m\u001b[0m \u001b[1m0s\u001b[0m 8ms/step - loss: 1.7071 - mae: 1.0337 - val_loss: 2.8823 - val_mae: 1.3098\n",
      "Epoch 75/100\n",
      "\u001b[1m9/9\u001b[0m \u001b[32m━━━━━━━━━━━━━━━━━━━━\u001b[0m\u001b[37m\u001b[0m \u001b[1m0s\u001b[0m 10ms/step - loss: 1.6093 - mae: 0.9774 - val_loss: 1.9822 - val_mae: 1.1450\n",
      "Epoch 76/100\n",
      "\u001b[1m9/9\u001b[0m \u001b[32m━━━━━━━━━━━━━━━━━━━━\u001b[0m\u001b[37m\u001b[0m \u001b[1m0s\u001b[0m 9ms/step - loss: 1.2501 - mae: 0.8286 - val_loss: 2.0877 - val_mae: 1.1640\n",
      "Epoch 77/100\n",
      "\u001b[1m9/9\u001b[0m \u001b[32m━━━━━━━━━━━━━━━━━━━━\u001b[0m\u001b[37m\u001b[0m \u001b[1m0s\u001b[0m 8ms/step - loss: 1.3029 - mae: 0.8968 - val_loss: 3.1705 - val_mae: 1.3926\n",
      "Epoch 78/100\n",
      "\u001b[1m9/9\u001b[0m \u001b[32m━━━━━━━━━━━━━━━━━━━━\u001b[0m\u001b[37m\u001b[0m \u001b[1m0s\u001b[0m 10ms/step - loss: 1.6482 - mae: 0.9740 - val_loss: 2.2247 - val_mae: 1.1900\n",
      "Epoch 79/100\n",
      "\u001b[1m9/9\u001b[0m \u001b[32m━━━━━━━━━━━━━━━━━━━━\u001b[0m\u001b[37m\u001b[0m \u001b[1m0s\u001b[0m 8ms/step - loss: 1.4664 - mae: 0.9219 - val_loss: 2.0969 - val_mae: 1.1388\n",
      "Epoch 80/100\n",
      "\u001b[1m9/9\u001b[0m \u001b[32m━━━━━━━━━━━━━━━━━━━━\u001b[0m\u001b[37m\u001b[0m \u001b[1m0s\u001b[0m 10ms/step - loss: 1.0901 - mae: 0.8110 - val_loss: 2.0123 - val_mae: 1.1927\n",
      "Epoch 81/100\n",
      "\u001b[1m9/9\u001b[0m \u001b[32m━━━━━━━━━━━━━━━━━━━━\u001b[0m\u001b[37m\u001b[0m \u001b[1m0s\u001b[0m 12ms/step - loss: 2.1060 - mae: 1.0783 - val_loss: 3.0092 - val_mae: 1.3723\n",
      "Epoch 82/100\n",
      "\u001b[1m9/9\u001b[0m \u001b[32m━━━━━━━━━━━━━━━━━━━━\u001b[0m\u001b[37m\u001b[0m \u001b[1m0s\u001b[0m 12ms/step - loss: 1.5933 - mae: 1.0018 - val_loss: 2.4382 - val_mae: 1.2648\n",
      "Epoch 83/100\n",
      "\u001b[1m9/9\u001b[0m \u001b[32m━━━━━━━━━━━━━━━━━━━━\u001b[0m\u001b[37m\u001b[0m \u001b[1m0s\u001b[0m 10ms/step - loss: 1.3480 - mae: 0.8939 - val_loss: 2.2547 - val_mae: 1.2303\n",
      "Epoch 84/100\n",
      "\u001b[1m9/9\u001b[0m \u001b[32m━━━━━━━━━━━━━━━━━━━━\u001b[0m\u001b[37m\u001b[0m \u001b[1m0s\u001b[0m 9ms/step - loss: 1.8309 - mae: 1.0565 - val_loss: 3.1249 - val_mae: 1.3675\n",
      "Epoch 85/100\n",
      "\u001b[1m9/9\u001b[0m \u001b[32m━━━━━━━━━━━━━━━━━━━━\u001b[0m\u001b[37m\u001b[0m \u001b[1m0s\u001b[0m 11ms/step - loss: 1.3909 - mae: 0.9202 - val_loss: 2.0856 - val_mae: 1.1958\n"
     ]
    }
   ],
   "source": [
    "history = model.fit(X_train_scaled, y_train, \n",
    "                    validation_split=0.2, \n",
    "                    epochs=100, \n",
    "                    batch_size=32, \n",
    "                    callbacks=[early_stop])\n"
   ]
  },
  {
   "cell_type": "code",
   "execution_count": 98,
   "id": "fc225122",
   "metadata": {},
   "outputs": [
    {
     "name": "stdout",
     "output_type": "stream",
     "text": [
      "\u001b[1m3/3\u001b[0m \u001b[32m━━━━━━━━━━━━━━━━━━━━\u001b[0m\u001b[37m\u001b[0m \u001b[1m0s\u001b[0m 33ms/step\n"
     ]
    }
   ],
   "source": [
    "y_pred = model.predict(X_test_scaled)"
   ]
  },
  {
   "cell_type": "code",
   "execution_count": 99,
   "id": "97e04381",
   "metadata": {},
   "outputs": [
    {
     "name": "stdout",
     "output_type": "stream",
     "text": [
      "Mean Absolute Error (MAE): 1.2104628746118047\n",
      "Root Mean Squared Error (RMSE): 1.5128226285316457\n",
      "R² Score: -0.08063521596450873\n"
     ]
    }
   ],
   "source": [
    "print(\"Mean Absolute Error (MAE):\", mean_absolute_error(y_test, y_pred))\n",
    "print(\"Root Mean Squared Error (RMSE):\", np.sqrt(mean_squared_error(y_test, y_pred)))\n",
    "print(\"R² Score:\", r2_score(y_test, y_pred))"
   ]
  },
  {
   "cell_type": "code",
   "execution_count": 100,
   "id": "a328539c",
   "metadata": {},
   "outputs": [
    {
     "data": {
      "image/png": "[encoded data removed]",
      "text/plain": [
       "<Figure size 600x600 with 1 Axes>"
      ]
     },
     "metadata": {},
     "output_type": "display_data"
    }
   ],
   "source": [
    "# Actual vs Predicted Plot\n",
    "plt.figure(figsize=(6, 6))\n",
    "plt.scatter(y_test, y_pred, alpha=0.5)\n",
    "plt.plot([min(y_test), max(y_test)], [min(y_test), max(y_test)], color='red', linestyle='--')\n",
    "plt.title(\"Actual vs Predicted Values\")\n",
    "plt.xlabel(\"Actual Values\")\n",
    "plt.ylabel(\"Predicted Values\")\n",
    "plt.show()"
   ]
  },
  {
   "cell_type": "markdown",
   "id": "b5a9a121",
   "metadata": {},
   "source": [
    "# Model Optimisation.\n",
    "- Finding the ideal Parameters using Optuna\n",
    "- Done tuning of Hyperparameters."
   ]
  },
  {
   "cell_type": "code",
   "execution_count": 104,
   "id": "d4950410",
   "metadata": {
    "scrolled": true
   },
   "outputs": [
    {
     "name": "stderr",
     "output_type": "stream",
     "text": [
      "C:\\Users\\Hamish\\AppData\\Local\\Programs\\Python\\Python310\\lib\\site-packages\\tqdm\\auto.py:21: TqdmWarning: IProgress not found. Please update jupyter and ipywidgets. See https://ipywidgets.readthedocs.io/en/stable/user_install.html\n",
      "  from .autonotebook import tqdm as notebook_tqdm\n"
     ]
    }
   ],
   "source": [
    "import optuna"
   ]
  },
  {
   "cell_type": "code",
   "execution_count": 105,
   "id": "033e4fd9",
   "metadata": {},
   "outputs": [],
   "source": [
    "def objective(trial):\n",
    "    # Tuning Hyperparameters\n",
    "    n_layers = trial.suggest_int('n_layers', 2, 4)      # 2 to 4 hidden layers\n",
    "    n_neurons = trial.suggest_int('n_neurons', 32, 256) # 32 to 256 neurons per layer\n",
    "    learning_rate = trial.suggest_float('learning_rate', 1e-5, 1e-3, log=True)  # Learning rate\n",
    "    dropout_rate = trial.suggest_float('dropout_rate', 0.1, 0.5)  # Dropout range\n",
    "    batch_size = trial.suggest_categorical('batch_size', [16, 32, 64])  # Batch size\n",
    "\n",
    "    # Model Architecture\n",
    "    model = keras.models.Sequential()\n",
    "    model.add(layers.Input(shape=(X_train_scaled.shape[1],)))\n",
    "\n",
    "    for _ in range(n_layers):\n",
    "        model.add(layers.Dense(n_neurons, activation='relu'))\n",
    "        model.add(layers.Dropout(dropout_rate))\n",
    "\n",
    "    model.add(layers.Dense(1))  # Output layer\n",
    "\n",
    "    # Compile the Model\n",
    "    model.compile(optimizer=keras.optimizers.Adam(learning_rate=learning_rate),\n",
    "                   loss='mean_squared_error')\n",
    "\n",
    "    # EarlyStopping for stability\n",
    "    early_stop = EarlyStopping(monitor='val_loss', patience=10, restore_best_weights=True)\n",
    "\n",
    "    # Train the Model\n",
    "    history = model.fit(X_train_scaled, y_train,\n",
    "                        validation_split=0.2,\n",
    "                        epochs=100,\n",
    "                        batch_size=batch_size,\n",
    "                        callbacks=[early_stop],\n",
    "                        verbose=0)\n",
    "\n",
    "    # Evaluate Model\n",
    "    y_pred = model.predict(X_test_scaled)\n",
    "    mae = mean_absolute_error(y_test, y_pred)\n",
    "\n",
    "    return mae"
   ]
  },
  {
   "cell_type": "code",
   "execution_count": 106,
   "id": "2dbf2cf6",
   "metadata": {},
   "outputs": [
    {
     "name": "stderr",
     "output_type": "stream",
     "text": [
      "[I 2025-03-16 22:25:46,647] A new study created in memory with name: no-name-d86b5afb-dd43-4cd4-b95b-88f298ff03da\n"
     ]
    },
    {
     "name": "stdout",
     "output_type": "stream",
     "text": [
      "WARNING:tensorflow:5 out of the last 7 calls to <function TensorFlowTrainer.make_predict_function.<locals>.one_step_on_data_distributed at 0x000001F8471A80D0> triggered tf.function retracing. Tracing is expensive and the excessive number of tracings could be due to (1) creating @tf.function repeatedly in a loop, (2) passing tensors with different shapes, (3) passing Python objects instead of tensors. For (1), please define your @tf.function outside of the loop. For (2), @tf.function has reduce_retracing=True option that can avoid unnecessary retracing. For (3), please refer to https://www.tensorflow.org/guide/function#controlling_retracing and https://www.tensorflow.org/api_docs/python/tf/function for  more details.\n",
      "\u001b[1m1/3\u001b[0m \u001b[32m━━━━━━\u001b[0m\u001b[37m━━━━━━━━━━━━━━\u001b[0m \u001b[1m0s\u001b[0m 78ms/stepWARNING:tensorflow:6 out of the last 9 calls to <function TensorFlowTrainer.make_predict_function.<locals>.one_step_on_data_distributed at 0x000001F8471A80D0> triggered tf.function retracing. Tracing is expensive and the excessive number of tracings could be due to (1) creating @tf.function repeatedly in a loop, (2) passing tensors with different shapes, (3) passing Python objects instead of tensors. For (1), please define your @tf.function outside of the loop. For (2), @tf.function has reduce_retracing=True option that can avoid unnecessary retracing. For (3), please refer to https://www.tensorflow.org/guide/function#controlling_retracing and https://www.tensorflow.org/api_docs/python/tf/function for  more details.\n",
      "\u001b[1m3/3\u001b[0m \u001b[32m━━━━━━━━━━━━━━━━━━━━\u001b[0m\u001b[37m\u001b[0m \u001b[1m0s\u001b[0m 51ms/step\n"
     ]
    },
    {
     "name": "stderr",
     "output_type": "stream",
     "text": [
      "[I 2025-03-16 22:26:00,953] Trial 0 finished with value: 2.833824843137524 and parameters: {'n_layers': 4, 'n_neurons': 159, 'learning_rate': 2.6926592427135553e-05, 'dropout_rate': 0.30318791112039944, 'batch_size': 32}. Best is trial 0 with value: 2.833824843137524.\n"
     ]
    },
    {
     "name": "stdout",
     "output_type": "stream",
     "text": [
      "\u001b[1m3/3\u001b[0m \u001b[32m━━━━━━━━━━━━━━━━━━━━\u001b[0m\u001b[37m\u001b[0m \u001b[1m0s\u001b[0m 34ms/step\n"
     ]
    },
    {
     "name": "stderr",
     "output_type": "stream",
     "text": [
      "[I 2025-03-16 22:26:13,365] Trial 1 finished with value: 3.0397214264060732 and parameters: {'n_layers': 3, 'n_neurons': 239, 'learning_rate': 1.1092935517296554e-05, 'dropout_rate': 0.11722234442227597, 'batch_size': 32}. Best is trial 0 with value: 2.833824843137524.\n"
     ]
    },
    {
     "name": "stdout",
     "output_type": "stream",
     "text": [
      "\u001b[1m3/3\u001b[0m \u001b[32m━━━━━━━━━━━━━━━━━━━━\u001b[0m\u001b[37m\u001b[0m \u001b[1m0s\u001b[0m 16ms/step\n"
     ]
    },
    {
     "name": "stderr",
     "output_type": "stream",
     "text": [
      "[I 2025-03-16 22:26:19,359] Trial 2 finished with value: 2.0957437729461863 and parameters: {'n_layers': 3, 'n_neurons': 126, 'learning_rate': 0.00031909362072154703, 'dropout_rate': 0.45285296920677987, 'batch_size': 32}. Best is trial 2 with value: 2.0957437729461863.\n"
     ]
    },
    {
     "name": "stdout",
     "output_type": "stream",
     "text": [
      "\u001b[1m3/3\u001b[0m \u001b[32m━━━━━━━━━━━━━━━━━━━━\u001b[0m\u001b[37m\u001b[0m \u001b[1m0s\u001b[0m 46ms/step\n"
     ]
    },
    {
     "name": "stderr",
     "output_type": "stream",
     "text": [
      "[I 2025-03-16 22:26:30,195] Trial 3 finished with value: 1.8145089454526764 and parameters: {'n_layers': 3, 'n_neurons': 176, 'learning_rate': 7.297534019229511e-05, 'dropout_rate': 0.4151920969931385, 'batch_size': 16}. Best is trial 3 with value: 1.8145089454526764.\n"
     ]
    },
    {
     "name": "stdout",
     "output_type": "stream",
     "text": [
      "\u001b[1m3/3\u001b[0m \u001b[32m━━━━━━━━━━━━━━━━━━━━\u001b[0m\u001b[37m\u001b[0m \u001b[1m0s\u001b[0m 17ms/step\n"
     ]
    },
    {
     "name": "stderr",
     "output_type": "stream",
     "text": [
      "[I 2025-03-16 22:26:38,492] Trial 4 finished with value: 3.6189043261490554 and parameters: {'n_layers': 2, 'n_neurons': 45, 'learning_rate': 6.0174561139007503e-05, 'dropout_rate': 0.36788711702020416, 'batch_size': 64}. Best is trial 3 with value: 1.8145089454526764.\n"
     ]
    },
    {
     "name": "stdout",
     "output_type": "stream",
     "text": [
      "\u001b[1m3/3\u001b[0m \u001b[32m━━━━━━━━━━━━━━━━━━━━\u001b[0m\u001b[37m\u001b[0m \u001b[1m0s\u001b[0m 24ms/step\n"
     ]
    },
    {
     "name": "stderr",
     "output_type": "stream",
     "text": [
      "[I 2025-03-16 22:26:43,101] Trial 5 finished with value: 2.6843457900075887 and parameters: {'n_layers': 4, 'n_neurons': 199, 'learning_rate': 0.0005570522101546086, 'dropout_rate': 0.42868804078118783, 'batch_size': 64}. Best is trial 3 with value: 1.8145089454526764.\n"
     ]
    },
    {
     "name": "stdout",
     "output_type": "stream",
     "text": [
      "\u001b[1m3/3\u001b[0m \u001b[32m━━━━━━━━━━━━━━━━━━━━\u001b[0m\u001b[37m\u001b[0m \u001b[1m0s\u001b[0m 15ms/step\n"
     ]
    },
    {
     "name": "stderr",
     "output_type": "stream",
     "text": [
      "[I 2025-03-16 22:26:51,517] Trial 6 finished with value: 3.7719771500967805 and parameters: {'n_layers': 2, 'n_neurons': 55, 'learning_rate': 1.82138751095224e-05, 'dropout_rate': 0.4961625395806024, 'batch_size': 64}. Best is trial 3 with value: 1.8145089454526764.\n"
     ]
    },
    {
     "name": "stdout",
     "output_type": "stream",
     "text": [
      "\u001b[1m3/3\u001b[0m \u001b[32m━━━━━━━━━━━━━━━━━━━━\u001b[0m\u001b[37m\u001b[0m \u001b[1m0s\u001b[0m 34ms/step\n"
     ]
    },
    {
     "name": "stderr",
     "output_type": "stream",
     "text": [
      "[I 2025-03-16 22:27:03,847] Trial 7 finished with value: 1.3819771170888695 and parameters: {'n_layers': 3, 'n_neurons': 154, 'learning_rate': 0.00013650425284738736, 'dropout_rate': 0.4152060292762819, 'batch_size': 16}. Best is trial 7 with value: 1.3819771170888695.\n"
     ]
    },
    {
     "name": "stdout",
     "output_type": "stream",
     "text": [
      "\u001b[1m3/3\u001b[0m \u001b[32m━━━━━━━━━━━━━━━━━━━━\u001b[0m\u001b[37m\u001b[0m \u001b[1m0s\u001b[0m 31ms/step\n"
     ]
    },
    {
     "name": "stderr",
     "output_type": "stream",
     "text": [
      "[I 2025-03-16 22:27:19,681] Trial 8 finished with value: 2.5168180197372876 and parameters: {'n_layers': 4, 'n_neurons': 195, 'learning_rate': 2.84427154492634e-05, 'dropout_rate': 0.4026983796346214, 'batch_size': 16}. Best is trial 7 with value: 1.3819771170888695.\n"
     ]
    },
    {
     "name": "stdout",
     "output_type": "stream",
     "text": [
      "\u001b[1m3/3\u001b[0m \u001b[32m━━━━━━━━━━━━━━━━━━━━\u001b[0m\u001b[37m\u001b[0m \u001b[1m0s\u001b[0m 22ms/step\n"
     ]
    },
    {
     "name": "stderr",
     "output_type": "stream",
     "text": [
      "[I 2025-03-16 22:27:29,409] Trial 9 finished with value: 3.498405700542211 and parameters: {'n_layers': 3, 'n_neurons': 228, 'learning_rate': 1.2701062088739604e-05, 'dropout_rate': 0.20894801494602808, 'batch_size': 64}. Best is trial 7 with value: 1.3819771170888695.\n"
     ]
    },
    {
     "name": "stdout",
     "output_type": "stream",
     "text": [
      "\u001b[1m3/3\u001b[0m \u001b[32m━━━━━━━━━━━━━━━━━━━━\u001b[0m\u001b[37m\u001b[0m \u001b[1m0s\u001b[0m 18ms/step\n"
     ]
    },
    {
     "name": "stderr",
     "output_type": "stream",
     "text": [
      "[I 2025-03-16 22:27:38,966] Trial 10 finished with value: 1.449640484720444 and parameters: {'n_layers': 2, 'n_neurons': 106, 'learning_rate': 0.00017832887497220475, 'dropout_rate': 0.31838631148319396, 'batch_size': 16}. Best is trial 7 with value: 1.3819771170888695.\n"
     ]
    },
    {
     "name": "stdout",
     "output_type": "stream",
     "text": [
      "\u001b[1m3/3\u001b[0m \u001b[32m━━━━━━━━━━━━━━━━━━━━\u001b[0m\u001b[37m\u001b[0m \u001b[1m0s\u001b[0m 14ms/step\n"
     ]
    },
    {
     "name": "stderr",
     "output_type": "stream",
     "text": [
      "[I 2025-03-16 22:27:47,832] Trial 11 finished with value: 1.3765475263125577 and parameters: {'n_layers': 2, 'n_neurons': 108, 'learning_rate': 0.0001893710929354705, 'dropout_rate': 0.3209613949597479, 'batch_size': 16}. Best is trial 11 with value: 1.3765475263125577.\n"
     ]
    },
    {
     "name": "stdout",
     "output_type": "stream",
     "text": [
      "\u001b[1m3/3\u001b[0m \u001b[32m━━━━━━━━━━━━━━━━━━━━\u001b[0m\u001b[37m\u001b[0m \u001b[1m0s\u001b[0m 17ms/step\n"
     ]
    },
    {
     "name": "stderr",
     "output_type": "stream",
     "text": [
      "[I 2025-03-16 22:27:55,997] Trial 12 finished with value: 1.3428292434089726 and parameters: {'n_layers': 2, 'n_neurons': 81, 'learning_rate': 0.00020619921453743722, 'dropout_rate': 0.19499432981152723, 'batch_size': 16}. Best is trial 12 with value: 1.3428292434089726.\n"
     ]
    },
    {
     "name": "stdout",
     "output_type": "stream",
     "text": [
      "\u001b[1m3/3\u001b[0m \u001b[32m━━━━━━━━━━━━━━━━━━━━\u001b[0m\u001b[37m\u001b[0m \u001b[1m0s\u001b[0m 21ms/step\n"
     ]
    },
    {
     "name": "stderr",
     "output_type": "stream",
     "text": [
      "[I 2025-03-16 22:28:05,963] Trial 13 finished with value: 1.1222117233881204 and parameters: {'n_layers': 2, 'n_neurons': 96, 'learning_rate': 0.0009357750302150972, 'dropout_rate': 0.21133276548294405, 'batch_size': 16}. Best is trial 13 with value: 1.1222117233881204.\n"
     ]
    },
    {
     "name": "stdout",
     "output_type": "stream",
     "text": [
      "\u001b[1m3/3\u001b[0m \u001b[32m━━━━━━━━━━━━━━━━━━━━\u001b[0m\u001b[37m\u001b[0m \u001b[1m0s\u001b[0m 21ms/step\n"
     ]
    },
    {
     "name": "stderr",
     "output_type": "stream",
     "text": [
      "[I 2025-03-16 22:28:11,750] Trial 14 finished with value: 1.297495135005978 and parameters: {'n_layers': 2, 'n_neurons': 62, 'learning_rate': 0.000991387376967908, 'dropout_rate': 0.21159582918042932, 'batch_size': 16}. Best is trial 13 with value: 1.1222117233881204.\n"
     ]
    },
    {
     "name": "stdout",
     "output_type": "stream",
     "text": [
      "\u001b[1m3/3\u001b[0m \u001b[32m━━━━━━━━━━━━━━━━━━━━\u001b[0m\u001b[37m\u001b[0m \u001b[1m0s\u001b[0m 24ms/step\n"
     ]
    },
    {
     "name": "stderr",
     "output_type": "stream",
     "text": [
      "[I 2025-03-16 22:28:16,653] Trial 15 finished with value: 1.5110739429337439 and parameters: {'n_layers': 2, 'n_neurons': 74, 'learning_rate': 0.0009870433547362718, 'dropout_rate': 0.23380616807908597, 'batch_size': 16}. Best is trial 13 with value: 1.1222117233881204.\n"
     ]
    },
    {
     "name": "stdout",
     "output_type": "stream",
     "text": [
      "\u001b[1m3/3\u001b[0m \u001b[32m━━━━━━━━━━━━━━━━━━━━\u001b[0m\u001b[37m\u001b[0m \u001b[1m0s\u001b[0m 25ms/step\n"
     ]
    },
    {
     "name": "stderr",
     "output_type": "stream",
     "text": [
      "[I 2025-03-16 22:28:25,612] Trial 16 finished with value: 1.1847903138330829 and parameters: {'n_layers': 2, 'n_neurons': 82, 'learning_rate': 0.0008420415347657151, 'dropout_rate': 0.13765565113340728, 'batch_size': 16}. Best is trial 13 with value: 1.1222117233881204.\n"
     ]
    },
    {
     "name": "stdout",
     "output_type": "stream",
     "text": [
      "\u001b[1m3/3\u001b[0m \u001b[32m━━━━━━━━━━━━━━━━━━━━\u001b[0m\u001b[37m\u001b[0m \u001b[1m0s\u001b[0m 13ms/step\n"
     ]
    },
    {
     "name": "stderr",
     "output_type": "stream",
     "text": [
      "[I 2025-03-16 22:28:34,266] Trial 17 finished with value: 1.2598113511716045 and parameters: {'n_layers': 2, 'n_neurons': 96, 'learning_rate': 0.0004459386947640691, 'dropout_rate': 0.11255409702799309, 'batch_size': 16}. Best is trial 13 with value: 1.1222117233881204.\n"
     ]
    },
    {
     "name": "stdout",
     "output_type": "stream",
     "text": [
      "\u001b[1m3/3\u001b[0m \u001b[32m━━━━━━━━━━━━━━━━━━━━\u001b[0m\u001b[37m\u001b[0m \u001b[1m0s\u001b[0m 24ms/step\n"
     ]
    },
    {
     "name": "stderr",
     "output_type": "stream",
     "text": [
      "[I 2025-03-16 22:28:42,080] Trial 18 finished with value: 1.1107641135823396 and parameters: {'n_layers': 2, 'n_neurons': 32, 'learning_rate': 0.0006143774070788214, 'dropout_rate': 0.15797403537532662, 'batch_size': 16}. Best is trial 18 with value: 1.1107641135823396.\n"
     ]
    },
    {
     "name": "stdout",
     "output_type": "stream",
     "text": [
      "\u001b[1m3/3\u001b[0m \u001b[32m━━━━━━━━━━━━━━━━━━━━\u001b[0m\u001b[37m\u001b[0m \u001b[1m0s\u001b[0m 18ms/step\n"
     ]
    },
    {
     "name": "stderr",
     "output_type": "stream",
     "text": [
      "[I 2025-03-16 22:28:48,776] Trial 19 finished with value: 2.2175478582538273 and parameters: {'n_layers': 3, 'n_neurons': 32, 'learning_rate': 0.00035818388007820203, 'dropout_rate': 0.2583852872756549, 'batch_size': 32}. Best is trial 18 with value: 1.1107641135823396.\n"
     ]
    },
    {
     "name": "stdout",
     "output_type": "stream",
     "text": [
      "\u001b[1m3/3\u001b[0m \u001b[32m━━━━━━━━━━━━━━━━━━━━\u001b[0m\u001b[37m\u001b[0m \u001b[1m0s\u001b[0m 22ms/step\n"
     ]
    },
    {
     "name": "stderr",
     "output_type": "stream",
     "text": [
      "[I 2025-03-16 22:28:57,256] Trial 20 finished with value: 1.1723844631701978 and parameters: {'n_layers': 3, 'n_neurons': 131, 'learning_rate': 0.0005592894598820061, 'dropout_rate': 0.16490551773645687, 'batch_size': 16}. Best is trial 18 with value: 1.1107641135823396.\n"
     ]
    },
    {
     "name": "stdout",
     "output_type": "stream",
     "text": [
      "\u001b[1m3/3\u001b[0m \u001b[32m━━━━━━━━━━━━━━━━━━━━\u001b[0m\u001b[37m\u001b[0m \u001b[1m0s\u001b[0m 16ms/step\n"
     ]
    },
    {
     "name": "stderr",
     "output_type": "stream",
     "text": [
      "[I 2025-03-16 22:29:04,343] Trial 21 finished with value: 1.2184010643920171 and parameters: {'n_layers': 3, 'n_neurons': 129, 'learning_rate': 0.0006275341203995494, 'dropout_rate': 0.16302890664383204, 'batch_size': 16}. Best is trial 18 with value: 1.1107641135823396.\n"
     ]
    },
    {
     "name": "stdout",
     "output_type": "stream",
     "text": [
      "\u001b[1m3/3\u001b[0m \u001b[32m━━━━━━━━━━━━━━━━━━━━\u001b[0m\u001b[37m\u001b[0m \u001b[1m0s\u001b[0m 16ms/step\n"
     ]
    },
    {
     "name": "stderr",
     "output_type": "stream",
     "text": [
      "[I 2025-03-16 22:29:15,375] Trial 22 finished with value: 1.24324180448211 and parameters: {'n_layers': 2, 'n_neurons': 133, 'learning_rate': 0.0002833493462106406, 'dropout_rate': 0.16719581500885888, 'batch_size': 16}. Best is trial 18 with value: 1.1107641135823396.\n"
     ]
    },
    {
     "name": "stdout",
     "output_type": "stream",
     "text": [
      "\u001b[1m3/3\u001b[0m \u001b[32m━━━━━━━━━━━━━━━━━━━━\u001b[0m\u001b[37m\u001b[0m \u001b[1m0s\u001b[0m 19ms/step\n"
     ]
    },
    {
     "name": "stderr",
     "output_type": "stream",
     "text": [
      "[I 2025-03-16 22:29:24,539] Trial 23 finished with value: 1.2439880315218002 and parameters: {'n_layers': 3, 'n_neurons': 33, 'learning_rate': 0.0005328103938957049, 'dropout_rate': 0.25818317217413517, 'batch_size': 16}. Best is trial 18 with value: 1.1107641135823396.\n"
     ]
    },
    {
     "name": "stdout",
     "output_type": "stream",
     "text": [
      "\u001b[1m3/3\u001b[0m \u001b[32m━━━━━━━━━━━━━━━━━━━━\u001b[0m\u001b[37m\u001b[0m \u001b[1m0s\u001b[0m 23ms/step\n"
     ]
    },
    {
     "name": "stderr",
     "output_type": "stream",
     "text": [
      "[I 2025-03-16 22:29:32,993] Trial 24 finished with value: 0.9345219411323851 and parameters: {'n_layers': 4, 'n_neurons': 119, 'learning_rate': 0.0007292305395035312, 'dropout_rate': 0.16313017864127682, 'batch_size': 16}. Best is trial 24 with value: 0.9345219411323851.\n"
     ]
    },
    {
     "name": "stdout",
     "output_type": "stream",
     "text": [
      "\u001b[1m3/3\u001b[0m \u001b[32m━━━━━━━━━━━━━━━━━━━━\u001b[0m\u001b[37m\u001b[0m \u001b[1m0s\u001b[0m 26ms/step\n"
     ]
    },
    {
     "name": "stderr",
     "output_type": "stream",
     "text": [
      "[I 2025-03-16 22:29:42,313] Trial 25 finished with value: 1.0247358189349667 and parameters: {'n_layers': 4, 'n_neurons': 100, 'learning_rate': 0.0007359339757371403, 'dropout_rate': 0.2597598924171859, 'batch_size': 16}. Best is trial 24 with value: 0.9345219411323851.\n"
     ]
    },
    {
     "name": "stdout",
     "output_type": "stream",
     "text": [
      "\u001b[1m3/3\u001b[0m \u001b[32m━━━━━━━━━━━━━━━━━━━━\u001b[0m\u001b[37m\u001b[0m \u001b[1m0s\u001b[0m 38ms/step\n"
     ]
    },
    {
     "name": "stderr",
     "output_type": "stream",
     "text": [
      "[I 2025-03-16 22:29:52,884] Trial 26 finished with value: 1.3423828574951078 and parameters: {'n_layers': 4, 'n_neurons': 111, 'learning_rate': 0.000257992576422372, 'dropout_rate': 0.2602133303690131, 'batch_size': 16}. Best is trial 24 with value: 0.9345219411323851.\n"
     ]
    },
    {
     "name": "stdout",
     "output_type": "stream",
     "text": [
      "\u001b[1m3/3\u001b[0m \u001b[32m━━━━━━━━━━━━━━━━━━━━\u001b[0m\u001b[37m\u001b[0m \u001b[1m0s\u001b[0m 19ms/step\n"
     ]
    },
    {
     "name": "stderr",
     "output_type": "stream",
     "text": [
      "[I 2025-03-16 22:29:59,966] Trial 27 finished with value: 1.6410355812975737 and parameters: {'n_layers': 4, 'n_neurons': 149, 'learning_rate': 0.00039113619603203055, 'dropout_rate': 0.35969156687931353, 'batch_size': 16}. Best is trial 24 with value: 0.9345219411323851.\n"
     ]
    },
    {
     "name": "stdout",
     "output_type": "stream",
     "text": [
      "\u001b[1m3/3\u001b[0m \u001b[32m━━━━━━━━━━━━━━━━━━━━\u001b[0m\u001b[37m\u001b[0m \u001b[1m0s\u001b[0m 18ms/step\n"
     ]
    },
    {
     "name": "stderr",
     "output_type": "stream",
     "text": [
      "[I 2025-03-16 22:30:04,648] Trial 28 finished with value: 1.3809961540706275 and parameters: {'n_layers': 4, 'n_neurons': 66, 'learning_rate': 0.0006971094050818171, 'dropout_rate': 0.14573845559745888, 'batch_size': 32}. Best is trial 24 with value: 0.9345219411323851.\n"
     ]
    },
    {
     "name": "stdout",
     "output_type": "stream",
     "text": [
      "\u001b[1m3/3\u001b[0m \u001b[32m━━━━━━━━━━━━━━━━━━━━\u001b[0m\u001b[37m\u001b[0m \u001b[1m0s\u001b[0m 18ms/step\n"
     ]
    },
    {
     "name": "stderr",
     "output_type": "stream",
     "text": [
      "[I 2025-03-16 22:30:10,630] Trial 29 finished with value: 2.3954072808533344 and parameters: {'n_layers': 4, 'n_neurons': 166, 'learning_rate': 0.00010881334950122262, 'dropout_rate': 0.28745420932445115, 'batch_size': 64}. Best is trial 24 with value: 0.9345219411323851.\n"
     ]
    },
    {
     "name": "stdout",
     "output_type": "stream",
     "text": [
      "\u001b[1m3/3\u001b[0m \u001b[32m━━━━━━━━━━━━━━━━━━━━\u001b[0m\u001b[37m\u001b[0m \u001b[1m0s\u001b[0m 22ms/step\n"
     ]
    },
    {
     "name": "stderr",
     "output_type": "stream",
     "text": [
      "[I 2025-03-16 22:30:18,075] Trial 30 finished with value: 2.6801590674457874 and parameters: {'n_layers': 4, 'n_neurons': 95, 'learning_rate': 3.880162630804197e-05, 'dropout_rate': 0.17540998309503023, 'batch_size': 32}. Best is trial 24 with value: 0.9345219411323851.\n"
     ]
    },
    {
     "name": "stdout",
     "output_type": "stream",
     "text": [
      "\u001b[1m3/3\u001b[0m \u001b[32m━━━━━━━━━━━━━━━━━━━━\u001b[0m\u001b[37m\u001b[0m \u001b[1m0s\u001b[0m 25ms/step\n"
     ]
    },
    {
     "name": "stderr",
     "output_type": "stream",
     "text": [
      "[I 2025-03-16 22:30:22,261] Trial 31 finished with value: 1.4153472493882322 and parameters: {'n_layers': 4, 'n_neurons': 117, 'learning_rate': 0.0007483782278397972, 'dropout_rate': 0.22388291425281323, 'batch_size': 16}. Best is trial 24 with value: 0.9345219411323851.\n"
     ]
    },
    {
     "name": "stdout",
     "output_type": "stream",
     "text": [
      "\u001b[1m3/3\u001b[0m \u001b[32m━━━━━━━━━━━━━━━━━━━━\u001b[0m\u001b[37m\u001b[0m \u001b[1m0s\u001b[0m 17ms/step\n"
     ]
    },
    {
     "name": "stderr",
     "output_type": "stream",
     "text": [
      "[I 2025-03-16 22:30:28,284] Trial 32 finished with value: 1.1775972883406627 and parameters: {'n_layers': 4, 'n_neurons': 92, 'learning_rate': 0.00044046492336334775, 'dropout_rate': 0.1927072784132785, 'batch_size': 16}. Best is trial 24 with value: 0.9345219411323851.\n"
     ]
    },
    {
     "name": "stdout",
     "output_type": "stream",
     "text": [
      "\u001b[1m3/3\u001b[0m \u001b[32m━━━━━━━━━━━━━━━━━━━━\u001b[0m\u001b[37m\u001b[0m \u001b[1m0s\u001b[0m 21ms/step\n"
     ]
    },
    {
     "name": "stderr",
     "output_type": "stream",
     "text": [
      "[I 2025-03-16 22:30:34,890] Trial 33 finished with value: 1.1191424276657298 and parameters: {'n_layers': 4, 'n_neurons': 141, 'learning_rate': 0.0007556801476247324, 'dropout_rate': 0.10193518135666671, 'batch_size': 16}. Best is trial 24 with value: 0.9345219411323851.\n"
     ]
    },
    {
     "name": "stdout",
     "output_type": "stream",
     "text": [
      "\u001b[1m3/3\u001b[0m \u001b[32m━━━━━━━━━━━━━━━━━━━━\u001b[0m\u001b[37m\u001b[0m \u001b[1m0s\u001b[0m 24ms/step\n"
     ]
    },
    {
     "name": "stderr",
     "output_type": "stream",
     "text": [
      "[I 2025-03-16 22:30:41,468] Trial 34 finished with value: 1.1389414539418579 and parameters: {'n_layers': 4, 'n_neurons': 177, 'learning_rate': 0.000698108511974113, 'dropout_rate': 0.13016204995122244, 'batch_size': 16}. Best is trial 24 with value: 0.9345219411323851.\n"
     ]
    },
    {
     "name": "stdout",
     "output_type": "stream",
     "text": [
      "\u001b[1m3/3\u001b[0m \u001b[32m━━━━━━━━━━━━━━━━━━━━\u001b[0m\u001b[37m\u001b[0m \u001b[1m0s\u001b[0m 17ms/step\n"
     ]
    },
    {
     "name": "stderr",
     "output_type": "stream",
     "text": [
      "[I 2025-03-16 22:30:47,901] Trial 35 finished with value: 1.3356561741242938 and parameters: {'n_layers': 4, 'n_neurons': 143, 'learning_rate': 0.0003038472312985902, 'dropout_rate': 0.10438673343352607, 'batch_size': 32}. Best is trial 24 with value: 0.9345219411323851.\n"
     ]
    },
    {
     "name": "stdout",
     "output_type": "stream",
     "text": [
      "\u001b[1m3/3\u001b[0m \u001b[32m━━━━━━━━━━━━━━━━━━━━\u001b[0m\u001b[37m\u001b[0m \u001b[1m0s\u001b[0m 17ms/step\n"
     ]
    },
    {
     "name": "stderr",
     "output_type": "stream",
     "text": [
      "[I 2025-03-16 22:30:53,788] Trial 36 finished with value: 1.207985457063757 and parameters: {'n_layers': 4, 'n_neurons': 140, 'learning_rate': 0.000496961872706803, 'dropout_rate': 0.10380583399990545, 'batch_size': 16}. Best is trial 24 with value: 0.9345219411323851.\n"
     ]
    },
    {
     "name": "stdout",
     "output_type": "stream",
     "text": [
      "\u001b[1m3/3\u001b[0m \u001b[32m━━━━━━━━━━━━━━━━━━━━\u001b[0m\u001b[37m\u001b[0m \u001b[1m0s\u001b[0m 26ms/step\n"
     ]
    },
    {
     "name": "stderr",
     "output_type": "stream",
     "text": [
      "[I 2025-03-16 22:30:58,751] Trial 37 finished with value: 1.5360248004955628 and parameters: {'n_layers': 4, 'n_neurons': 165, 'learning_rate': 0.0006888577654334236, 'dropout_rate': 0.14419571090142705, 'batch_size': 64}. Best is trial 24 with value: 0.9345219411323851.\n"
     ]
    },
    {
     "name": "stdout",
     "output_type": "stream",
     "text": [
      "\u001b[1m3/3\u001b[0m \u001b[32m━━━━━━━━━━━━━━━━━━━━\u001b[0m\u001b[37m\u001b[0m \u001b[1m0s\u001b[0m 19ms/step\n"
     ]
    },
    {
     "name": "stderr",
     "output_type": "stream",
     "text": [
      "[I 2025-03-16 22:31:04,842] Trial 38 finished with value: 1.3745989196039967 and parameters: {'n_layers': 3, 'n_neurons': 185, 'learning_rate': 0.0002412695050610674, 'dropout_rate': 0.1267261508360787, 'batch_size': 16}. Best is trial 24 with value: 0.9345219411323851.\n"
     ]
    },
    {
     "name": "stdout",
     "output_type": "stream",
     "text": [
      "\u001b[1m3/3\u001b[0m \u001b[32m━━━━━━━━━━━━━━━━━━━━\u001b[0m\u001b[37m\u001b[0m \u001b[1m0s\u001b[0m 17ms/step\n"
     ]
    },
    {
     "name": "stderr",
     "output_type": "stream",
     "text": [
      "[I 2025-03-16 22:31:13,712] Trial 39 finished with value: 1.5338605560603804 and parameters: {'n_layers': 4, 'n_neurons': 119, 'learning_rate': 6.366412235410979e-05, 'dropout_rate': 0.18440000441790708, 'batch_size': 16}. Best is trial 24 with value: 0.9345219411323851.\n"
     ]
    },
    {
     "name": "stdout",
     "output_type": "stream",
     "text": [
      "\u001b[1m3/3\u001b[0m \u001b[32m━━━━━━━━━━━━━━━━━━━━\u001b[0m\u001b[37m\u001b[0m \u001b[1m0s\u001b[0m 16ms/step\n"
     ]
    },
    {
     "name": "stderr",
     "output_type": "stream",
     "text": [
      "[I 2025-03-16 22:31:21,404] Trial 40 finished with value: 1.4107440320324631 and parameters: {'n_layers': 3, 'n_neurons': 215, 'learning_rate': 0.00014254254906512155, 'dropout_rate': 0.28918061626663216, 'batch_size': 32}. Best is trial 24 with value: 0.9345219411323851.\n"
     ]
    },
    {
     "name": "stdout",
     "output_type": "stream",
     "text": [
      "\u001b[1m3/3\u001b[0m \u001b[32m━━━━━━━━━━━━━━━━━━━━\u001b[0m\u001b[37m\u001b[0m \u001b[1m0s\u001b[0m 22ms/step\n"
     ]
    },
    {
     "name": "stderr",
     "output_type": "stream",
     "text": [
      "[I 2025-03-16 22:31:28,282] Trial 41 finished with value: 0.9883222873350198 and parameters: {'n_layers': 4, 'n_neurons': 254, 'learning_rate': 0.000882741210113574, 'dropout_rate': 0.24219814005293608, 'batch_size': 16}. Best is trial 24 with value: 0.9345219411323851.\n"
     ]
    },
    {
     "name": "stdout",
     "output_type": "stream",
     "text": [
      "\u001b[1m3/3\u001b[0m \u001b[32m━━━━━━━━━━━━━━━━━━━━\u001b[0m\u001b[37m\u001b[0m \u001b[1m0s\u001b[0m 19ms/step\n"
     ]
    },
    {
     "name": "stderr",
     "output_type": "stream",
     "text": [
      "[I 2025-03-16 22:31:35,385] Trial 42 finished with value: 1.1507275744233503 and parameters: {'n_layers': 4, 'n_neurons': 53, 'learning_rate': 0.0008107690818148564, 'dropout_rate': 0.24413857556765903, 'batch_size': 16}. Best is trial 24 with value: 0.9345219411323851.\n"
     ]
    },
    {
     "name": "stdout",
     "output_type": "stream",
     "text": [
      "\u001b[1m3/3\u001b[0m \u001b[32m━━━━━━━━━━━━━━━━━━━━\u001b[0m\u001b[37m\u001b[0m \u001b[1m0s\u001b[0m 18ms/step\n"
     ]
    },
    {
     "name": "stderr",
     "output_type": "stream",
     "text": [
      "[I 2025-03-16 22:31:42,512] Trial 43 finished with value: 1.4005866459420333 and parameters: {'n_layers': 4, 'n_neurons': 241, 'learning_rate': 0.000623987111126553, 'dropout_rate': 0.33993260055958957, 'batch_size': 16}. Best is trial 24 with value: 0.9345219411323851.\n"
     ]
    },
    {
     "name": "stdout",
     "output_type": "stream",
     "text": [
      "\u001b[1m3/3\u001b[0m \u001b[32m━━━━━━━━━━━━━━━━━━━━\u001b[0m\u001b[37m\u001b[0m \u001b[1m0s\u001b[0m 25ms/step\n"
     ]
    },
    {
     "name": "stderr",
     "output_type": "stream",
     "text": [
      "[I 2025-03-16 22:31:47,656] Trial 44 finished with value: 1.9012695314276427 and parameters: {'n_layers': 4, 'n_neurons': 254, 'learning_rate': 0.0003757821877519665, 'dropout_rate': 0.27811834155754445, 'batch_size': 64}. Best is trial 24 with value: 0.9345219411323851.\n"
     ]
    },
    {
     "name": "stdout",
     "output_type": "stream",
     "text": [
      "\u001b[1m3/3\u001b[0m \u001b[32m━━━━━━━━━━━━━━━━━━━━\u001b[0m\u001b[37m\u001b[0m \u001b[1m0s\u001b[0m 14ms/step\n"
     ]
    },
    {
     "name": "stderr",
     "output_type": "stream",
     "text": [
      "[I 2025-03-16 22:31:52,085] Trial 45 finished with value: 1.3780271182836932 and parameters: {'n_layers': 4, 'n_neurons': 161, 'learning_rate': 0.0004952170818010317, 'dropout_rate': 0.16205600229049305, 'batch_size': 16}. Best is trial 24 with value: 0.9345219411323851.\n"
     ]
    },
    {
     "name": "stdout",
     "output_type": "stream",
     "text": [
      "\u001b[1m3/3\u001b[0m \u001b[32m━━━━━━━━━━━━━━━━━━━━\u001b[0m\u001b[37m\u001b[0m \u001b[1m0s\u001b[0m 14ms/step\n"
     ]
    },
    {
     "name": "stderr",
     "output_type": "stream",
     "text": [
      "[I 2025-03-16 22:31:59,922] Trial 46 finished with value: 1.0478698229481642 and parameters: {'n_layers': 4, 'n_neurons': 120, 'learning_rate': 0.0008299320036446287, 'dropout_rate': 0.3057434047527842, 'batch_size': 16}. Best is trial 24 with value: 0.9345219411323851.\n"
     ]
    },
    {
     "name": "stdout",
     "output_type": "stream",
     "text": [
      "\u001b[1m3/3\u001b[0m \u001b[32m━━━━━━━━━━━━━━━━━━━━\u001b[0m\u001b[37m\u001b[0m \u001b[1m0s\u001b[0m 21ms/step\n"
     ]
    },
    {
     "name": "stderr",
     "output_type": "stream",
     "text": [
      "[I 2025-03-16 22:32:07,706] Trial 47 finished with value: 1.134176209057206 and parameters: {'n_layers': 3, 'n_neurons': 44, 'learning_rate': 0.0009981911307869041, 'dropout_rate': 0.3828040927940752, 'batch_size': 16}. Best is trial 24 with value: 0.9345219411323851.\n"
     ]
    },
    {
     "name": "stdout",
     "output_type": "stream",
     "text": [
      "\u001b[1m3/3\u001b[0m \u001b[32m━━━━━━━━━━━━━━━━━━━━\u001b[0m\u001b[37m\u001b[0m \u001b[1m0s\u001b[0m 25ms/step\n"
     ]
    },
    {
     "name": "stderr",
     "output_type": "stream",
     "text": [
      "[I 2025-03-16 22:32:14,053] Trial 48 finished with value: 1.3605852822586835 and parameters: {'n_layers': 4, 'n_neurons': 203, 'learning_rate': 0.0005996166731814511, 'dropout_rate': 0.3170356085347989, 'batch_size': 16}. Best is trial 24 with value: 0.9345219411323851.\n"
     ]
    },
    {
     "name": "stdout",
     "output_type": "stream",
     "text": [
      "\u001b[1m3/3\u001b[0m \u001b[32m━━━━━━━━━━━━━━━━━━━━\u001b[0m\u001b[37m\u001b[0m \u001b[1m0s\u001b[0m 14ms/step\n"
     ]
    },
    {
     "name": "stderr",
     "output_type": "stream",
     "text": [
      "[I 2025-03-16 22:32:22,859] Trial 49 finished with value: 1.0571224754658322 and parameters: {'n_layers': 4, 'n_neurons': 119, 'learning_rate': 0.0008588494332632861, 'dropout_rate': 0.48102033726229787, 'batch_size': 16}. Best is trial 24 with value: 0.9345219411323851.\n"
     ]
    },
    {
     "name": "stdout",
     "output_type": "stream",
     "text": [
      "Best Hyperparameters: {'n_layers': 4, 'n_neurons': 119, 'learning_rate': 0.0007292305395035312, 'dropout_rate': 0.16313017864127682, 'batch_size': 16}\n",
      "Best MAE: 0.9345219411323851\n"
     ]
    }
   ],
   "source": [
    "study = optuna.create_study(direction='minimize')  # Minimize MAE\n",
    "\n",
    "# Optimize for 50 Trials\n",
    "study.optimize(objective, n_trials=50)\n",
    "\n",
    "# Best Parameters\n",
    "print(\"Best Hyperparameters:\", study.best_params)\n",
    "print(\"Best MAE:\", study.best_value)"
   ]
  },
  {
   "cell_type": "code",
   "execution_count": 107,
   "id": "906f8642",
   "metadata": {},
   "outputs": [],
   "source": [
    "best_params = study.best_params\n",
    "\n",
    "# Build Final Model with Best Params\n",
    "final_model = keras.models.Sequential()\n",
    "final_model.add(layers.Input(shape=(X_train_scaled.shape[1],)))"
   ]
  },
  {
   "cell_type": "code",
   "execution_count": 108,
   "id": "5d1ab79a",
   "metadata": {},
   "outputs": [],
   "source": [
    "for _ in range(best_params['n_layers']):\n",
    "    final_model.add(layers.Dense(best_params['n_neurons'], activation='relu'))\n",
    "    final_model.add(layers.Dropout(best_params['dropout_rate']))\n",
    "\n",
    "final_model.add(layers.Dense(1))"
   ]
  },
  {
   "cell_type": "code",
   "execution_count": 109,
   "id": "db6c016e",
   "metadata": {},
   "outputs": [],
   "source": [
    "# Compile and Train\n",
    "final_model.compile(optimizer=keras.optimizers.Adam(learning_rate=best_params['learning_rate']),\n",
    "                     loss='mean_squared_error')\n",
    "\n",
    "early_stop = EarlyStopping(monitor='val_loss', patience=10, restore_best_weights=True)"
   ]
  },
  {
   "cell_type": "code",
   "execution_count": 110,
   "id": "dedb15c3",
   "metadata": {
    "scrolled": true
   },
   "outputs": [
    {
     "name": "stdout",
     "output_type": "stream",
     "text": [
      "Epoch 1/100\n",
      "\u001b[1m17/17\u001b[0m \u001b[32m━━━━━━━━━━━━━━━━━━━━\u001b[0m\u001b[37m\u001b[0m \u001b[1m1s\u001b[0m 9ms/step - loss: 27.6104 - val_loss: 19.4287\n",
      "Epoch 2/100\n",
      "\u001b[1m17/17\u001b[0m \u001b[32m━━━━━━━━━━━━━━━━━━━━\u001b[0m\u001b[37m\u001b[0m \u001b[1m0s\u001b[0m 3ms/step - loss: 19.0305 - val_loss: 15.6673\n",
      "Epoch 3/100\n",
      "\u001b[1m17/17\u001b[0m \u001b[32m━━━━━━━━━━━━━━━━━━━━\u001b[0m\u001b[37m\u001b[0m \u001b[1m0s\u001b[0m 3ms/step - loss: 15.1916 - val_loss: 15.6081\n",
      "Epoch 4/100\n",
      "\u001b[1m17/17\u001b[0m \u001b[32m━━━━━━━━━━━━━━━━━━━━\u001b[0m\u001b[37m\u001b[0m \u001b[1m0s\u001b[0m 3ms/step - loss: 11.0645 - val_loss: 9.8507\n",
      "Epoch 5/100\n",
      "\u001b[1m17/17\u001b[0m \u001b[32m━━━━━━━━━━━━━━━━━━━━\u001b[0m\u001b[37m\u001b[0m \u001b[1m0s\u001b[0m 3ms/step - loss: 11.4980 - val_loss: 10.1006\n",
      "Epoch 6/100\n",
      "\u001b[1m17/17\u001b[0m \u001b[32m━━━━━━━━━━━━━━━━━━━━\u001b[0m\u001b[37m\u001b[0m \u001b[1m0s\u001b[0m 4ms/step - loss: 8.7236 - val_loss: 9.4769\n",
      "Epoch 7/100\n",
      "\u001b[1m17/17\u001b[0m \u001b[32m━━━━━━━━━━━━━━━━━━━━\u001b[0m\u001b[37m\u001b[0m \u001b[1m0s\u001b[0m 4ms/step - loss: 8.7996 - val_loss: 8.8646\n",
      "Epoch 8/100\n",
      "\u001b[1m17/17\u001b[0m \u001b[32m━━━━━━━━━━━━━━━━━━━━\u001b[0m\u001b[37m\u001b[0m \u001b[1m0s\u001b[0m 3ms/step - loss: 8.5243 - val_loss: 7.0746\n",
      "Epoch 9/100\n",
      "\u001b[1m17/17\u001b[0m \u001b[32m━━━━━━━━━━━━━━━━━━━━\u001b[0m\u001b[37m\u001b[0m \u001b[1m0s\u001b[0m 3ms/step - loss: 5.9295 - val_loss: 6.2915\n",
      "Epoch 10/100\n",
      "\u001b[1m17/17\u001b[0m \u001b[32m━━━━━━━━━━━━━━━━━━━━\u001b[0m\u001b[37m\u001b[0m \u001b[1m0s\u001b[0m 3ms/step - loss: 6.2334 - val_loss: 7.1468\n",
      "Epoch 11/100\n",
      "\u001b[1m17/17\u001b[0m \u001b[32m━━━━━━━━━━━━━━━━━━━━\u001b[0m\u001b[37m\u001b[0m \u001b[1m0s\u001b[0m 3ms/step - loss: 5.1884 - val_loss: 5.8619\n",
      "Epoch 12/100\n",
      "\u001b[1m17/17\u001b[0m \u001b[32m━━━━━━━━━━━━━━━━━━━━\u001b[0m\u001b[37m\u001b[0m \u001b[1m0s\u001b[0m 3ms/step - loss: 5.7241 - val_loss: 5.5105\n",
      "Epoch 13/100\n",
      "\u001b[1m17/17\u001b[0m \u001b[32m━━━━━━━━━━━━━━━━━━━━\u001b[0m\u001b[37m\u001b[0m \u001b[1m0s\u001b[0m 3ms/step - loss: 4.2213 - val_loss: 5.7226\n",
      "Epoch 14/100\n",
      "\u001b[1m17/17\u001b[0m \u001b[32m━━━━━━━━━━━━━━━━━━━━\u001b[0m\u001b[37m\u001b[0m \u001b[1m0s\u001b[0m 3ms/step - loss: 3.9768 - val_loss: 4.8525\n",
      "Epoch 15/100\n",
      "\u001b[1m17/17\u001b[0m \u001b[32m━━━━━━━━━━━━━━━━━━━━\u001b[0m\u001b[37m\u001b[0m \u001b[1m0s\u001b[0m 3ms/step - loss: 4.7091 - val_loss: 3.9049\n",
      "Epoch 16/100\n",
      "\u001b[1m17/17\u001b[0m \u001b[32m━━━━━━━━━━━━━━━━━━━━\u001b[0m\u001b[37m\u001b[0m \u001b[1m0s\u001b[0m 4ms/step - loss: 4.1799 - val_loss: 4.8652\n",
      "Epoch 17/100\n",
      "\u001b[1m17/17\u001b[0m \u001b[32m━━━━━━━━━━━━━━━━━━━━\u001b[0m\u001b[37m\u001b[0m \u001b[1m0s\u001b[0m 3ms/step - loss: 3.6517 - val_loss: 4.5803\n",
      "Epoch 18/100\n",
      "\u001b[1m17/17\u001b[0m \u001b[32m━━━━━━━━━━━━━━━━━━━━\u001b[0m\u001b[37m\u001b[0m \u001b[1m0s\u001b[0m 3ms/step - loss: 3.4136 - val_loss: 3.4904\n",
      "Epoch 19/100\n",
      "\u001b[1m17/17\u001b[0m \u001b[32m━━━━━━━━━━━━━━━━━━━━\u001b[0m\u001b[37m\u001b[0m \u001b[1m0s\u001b[0m 3ms/step - loss: 3.4026 - val_loss: 3.3272\n",
      "Epoch 20/100\n",
      "\u001b[1m17/17\u001b[0m \u001b[32m━━━━━━━━━━━━━━━━━━━━\u001b[0m\u001b[37m\u001b[0m \u001b[1m0s\u001b[0m 3ms/step - loss: 4.1786 - val_loss: 3.2055\n",
      "Epoch 21/100\n",
      "\u001b[1m17/17\u001b[0m \u001b[32m━━━━━━━━━━━━━━━━━━━━\u001b[0m\u001b[37m\u001b[0m \u001b[1m0s\u001b[0m 3ms/step - loss: 3.0076 - val_loss: 3.2849\n",
      "Epoch 22/100\n",
      "\u001b[1m17/17\u001b[0m \u001b[32m━━━━━━━━━━━━━━━━━━━━\u001b[0m\u001b[37m\u001b[0m \u001b[1m0s\u001b[0m 3ms/step - loss: 2.8165 - val_loss: 5.0707\n",
      "Epoch 23/100\n",
      "\u001b[1m17/17\u001b[0m \u001b[32m━━━━━━━━━━━━━━━━━━━━\u001b[0m\u001b[37m\u001b[0m \u001b[1m0s\u001b[0m 2ms/step - loss: 4.0608 - val_loss: 3.4042\n",
      "Epoch 24/100\n",
      "\u001b[1m17/17\u001b[0m \u001b[32m━━━━━━━━━━━━━━━━━━━━\u001b[0m\u001b[37m\u001b[0m \u001b[1m0s\u001b[0m 3ms/step - loss: 2.6147 - val_loss: 2.3717\n",
      "Epoch 25/100\n",
      "\u001b[1m17/17\u001b[0m \u001b[32m━━━━━━━━━━━━━━━━━━━━\u001b[0m\u001b[37m\u001b[0m \u001b[1m0s\u001b[0m 3ms/step - loss: 2.2847 - val_loss: 2.6620\n",
      "Epoch 26/100\n",
      "\u001b[1m17/17\u001b[0m \u001b[32m━━━━━━━━━━━━━━━━━━━━\u001b[0m\u001b[37m\u001b[0m \u001b[1m0s\u001b[0m 3ms/step - loss: 2.6562 - val_loss: 2.5170\n",
      "Epoch 27/100\n",
      "\u001b[1m17/17\u001b[0m \u001b[32m━━━━━━━━━━━━━━━━━━━━\u001b[0m\u001b[37m\u001b[0m \u001b[1m0s\u001b[0m 3ms/step - loss: 2.7564 - val_loss: 2.4798\n",
      "Epoch 28/100\n",
      "\u001b[1m17/17\u001b[0m \u001b[32m━━━━━━━━━━━━━━━━━━━━\u001b[0m\u001b[37m\u001b[0m \u001b[1m0s\u001b[0m 3ms/step - loss: 2.3234 - val_loss: 2.7446\n",
      "Epoch 29/100\n",
      "\u001b[1m17/17\u001b[0m \u001b[32m━━━━━━━━━━━━━━━━━━━━\u001b[0m\u001b[37m\u001b[0m \u001b[1m0s\u001b[0m 3ms/step - loss: 2.7829 - val_loss: 2.4863\n",
      "Epoch 30/100\n",
      "\u001b[1m17/17\u001b[0m \u001b[32m━━━━━━━━━━━━━━━━━━━━\u001b[0m\u001b[37m\u001b[0m \u001b[1m0s\u001b[0m 3ms/step - loss: 2.3290 - val_loss: 1.8661\n",
      "Epoch 31/100\n",
      "\u001b[1m17/17\u001b[0m \u001b[32m━━━━━━━━━━━━━━━━━━━━\u001b[0m\u001b[37m\u001b[0m \u001b[1m0s\u001b[0m 3ms/step - loss: 2.1713 - val_loss: 2.0331\n",
      "Epoch 32/100\n",
      "\u001b[1m17/17\u001b[0m \u001b[32m━━━━━━━━━━━━━━━━━━━━\u001b[0m\u001b[37m\u001b[0m \u001b[1m0s\u001b[0m 4ms/step - loss: 2.1669 - val_loss: 3.8845\n",
      "Epoch 33/100\n",
      "\u001b[1m17/17\u001b[0m \u001b[32m━━━━━━━━━━━━━━━━━━━━\u001b[0m\u001b[37m\u001b[0m \u001b[1m0s\u001b[0m 3ms/step - loss: 2.4689 - val_loss: 2.8058\n",
      "Epoch 34/100\n",
      "\u001b[1m17/17\u001b[0m \u001b[32m━━━━━━━━━━━━━━━━━━━━\u001b[0m\u001b[37m\u001b[0m \u001b[1m0s\u001b[0m 3ms/step - loss: 2.4692 - val_loss: 3.3304\n",
      "Epoch 35/100\n",
      "\u001b[1m17/17\u001b[0m \u001b[32m━━━━━━━━━━━━━━━━━━━━\u001b[0m\u001b[37m\u001b[0m \u001b[1m0s\u001b[0m 3ms/step - loss: 2.0384 - val_loss: 2.2465\n",
      "Epoch 36/100\n",
      "\u001b[1m17/17\u001b[0m \u001b[32m━━━━━━━━━━━━━━━━━━━━\u001b[0m\u001b[37m\u001b[0m \u001b[1m0s\u001b[0m 3ms/step - loss: 1.8455 - val_loss: 2.0518\n",
      "Epoch 37/100\n",
      "\u001b[1m17/17\u001b[0m \u001b[32m━━━━━━━━━━━━━━━━━━━━\u001b[0m\u001b[37m\u001b[0m \u001b[1m0s\u001b[0m 3ms/step - loss: 2.0585 - val_loss: 2.1162\n",
      "Epoch 38/100\n",
      "\u001b[1m17/17\u001b[0m \u001b[32m━━━━━━━━━━━━━━━━━━━━\u001b[0m\u001b[37m\u001b[0m \u001b[1m0s\u001b[0m 3ms/step - loss: 1.9480 - val_loss: 2.2522\n",
      "Epoch 39/100\n",
      "\u001b[1m17/17\u001b[0m \u001b[32m━━━━━━━━━━━━━━━━━━━━\u001b[0m\u001b[37m\u001b[0m \u001b[1m0s\u001b[0m 3ms/step - loss: 2.0646 - val_loss: 2.9692\n",
      "Epoch 40/100\n",
      "\u001b[1m17/17\u001b[0m \u001b[32m━━━━━━━━━━━━━━━━━━━━\u001b[0m\u001b[37m\u001b[0m \u001b[1m0s\u001b[0m 2ms/step - loss: 2.2903 - val_loss: 1.8897\n"
     ]
    },
    {
     "data": {
      "text/plain": [
       "<keras.src.callbacks.history.History at 0x1f838cb7730>"
      ]
     },
     "execution_count": 110,
     "metadata": {},
     "output_type": "execute_result"
    }
   ],
   "source": [
    "final_model.fit(X_train_scaled, y_train,\n",
    "                validation_split=0.2,\n",
    "                epochs=100,\n",
    "                batch_size=best_params['batch_size'],\n",
    "                callbacks=[early_stop])"
   ]
  },
  {
   "cell_type": "code",
   "execution_count": 111,
   "id": "8bb9519e",
   "metadata": {},
   "outputs": [
    {
     "name": "stdout",
     "output_type": "stream",
     "text": [
      "\u001b[1m3/3\u001b[0m \u001b[32m━━━━━━━━━━━━━━━━━━━━\u001b[0m\u001b[37m\u001b[0m \u001b[1m0s\u001b[0m 20ms/step\n"
     ]
    }
   ],
   "source": [
    "# Evaluate Final Model\n",
    "y_pred_final = final_model.predict(X_test_scaled)\n",
    "final_mae = mean_absolute_error(y_test, y_pred_final)\n",
    "final_rmse = np.sqrt(mean_squared_error(y_test, y_pred_final))\n",
    "final_r2 = r2_score(y_test, y_pred_final)\n"
   ]
  },
  {
   "cell_type": "code",
   "execution_count": 112,
   "id": "5e9b2edc",
   "metadata": {},
   "outputs": [
    {
     "name": "stdout",
     "output_type": "stream",
     "text": [
      "Final MAE: 1.2016\n",
      "Final RMSE: 1.5096\n",
      "Final R² Score: -0.0761\n"
     ]
    }
   ],
   "source": [
    "print(f\"Final MAE: {final_mae:.4f}\")\n",
    "print(f\"Final RMSE: {final_rmse:.4f}\")\n",
    "print(f\"Final R² Score: {final_r2:.4f}\")"
   ]
  },
  {
   "cell_type": "markdown",
   "id": "8530a796",
   "metadata": {},
   "source": [
    "# XGboost.\n",
    "- Used Xgboost model.\n",
    "- Optimized the Xgboost Parameters using Optuna.\n"
   ]
  },
  {
   "cell_type": "code",
   "execution_count": 113,
   "id": "275923c4",
   "metadata": {},
   "outputs": [
    {
     "name": "stdout",
     "output_type": "stream",
     "text": [
      "XGBoost MAE: 0.9429034048877873\n",
      "XGBoost RMSE: 1.2272737393081095\n",
      "XGBoost R² Score: 0.28880945328522756\n"
     ]
    }
   ],
   "source": [
    "import xgboost as xgb\n",
    "from sklearn.metrics import mean_absolute_error, mean_squared_error, r2_score\n",
    "\n",
    "# Train XGBoost Model\n",
    "xgb_model = xgb.XGBRegressor(n_estimators=300, learning_rate=0.05, max_depth=6, random_state=42)\n",
    "xgb_model.fit(X_train_scaled, y_train)\n",
    "\n",
    "# Predictions\n",
    "y_pred_xgb = xgb_model.predict(X_test_scaled)\n",
    "\n",
    "# Evaluation\n",
    "print(\"XGBoost MAE:\", mean_absolute_error(y_test, y_pred_xgb))\n",
    "print(\"XGBoost RMSE:\", np.sqrt(mean_squared_error(y_test, y_pred_xgb)))\n",
    "print(\"XGBoost R² Score:\", r2_score(y_test, y_pred_xgb))\n"
   ]
  },
  {
   "cell_type": "code",
   "execution_count": 114,
   "id": "4843be5c",
   "metadata": {},
   "outputs": [
    {
     "name": "stderr",
     "output_type": "stream",
     "text": [
      "[I 2025-03-16 22:37:36,883] A new study created in memory with name: no-name-6d87ee02-d2f3-4a44-98f3-5aee1ca47e9f\n",
      "[I 2025-03-16 22:37:48,665] Trial 0 finished with value: 0.8810255523344444 and parameters: {'n_estimators': 393, 'max_depth': 8, 'learning_rate': 0.01024716902574509, 'subsample': 0.7287941439857911, 'colsample_bytree': 0.8007024894555488}. Best is trial 0 with value: 0.8810255523344444.\n",
      "[I 2025-03-16 22:37:55,235] Trial 1 finished with value: 0.858451348832304 and parameters: {'n_estimators': 438, 'max_depth': 6, 'learning_rate': 0.027880297534119226, 'subsample': 0.7134478792456279, 'colsample_bytree': 0.8141710936536759}. Best is trial 1 with value: 0.858451348832304.\n",
      "[I 2025-03-16 22:38:04,675] Trial 2 finished with value: 0.9123128662730623 and parameters: {'n_estimators': 469, 'max_depth': 7, 'learning_rate': 0.016016144379352545, 'subsample': 0.8014022620044392, 'colsample_bytree': 0.7018983736124956}. Best is trial 1 with value: 0.858451348832304.\n",
      "[I 2025-03-16 22:38:06,781] Trial 3 finished with value: 0.9053788206397733 and parameters: {'n_estimators': 317, 'max_depth': 4, 'learning_rate': 0.041872602973050045, 'subsample': 0.8730027682095461, 'colsample_bytree': 0.8651570992406408}. Best is trial 1 with value: 0.858451348832304.\n",
      "[I 2025-03-16 22:38:11,825] Trial 4 finished with value: 0.9046375546541658 and parameters: {'n_estimators': 308, 'max_depth': 6, 'learning_rate': 0.018012532017822894, 'subsample': 0.8669151681969337, 'colsample_bytree': 0.7746758567802934}. Best is trial 1 with value: 0.858451348832304.\n",
      "[I 2025-03-16 22:38:14,348] Trial 5 finished with value: 0.8878793514146235 and parameters: {'n_estimators': 372, 'max_depth': 4, 'learning_rate': 0.01059290371089146, 'subsample': 0.7379653964766595, 'colsample_bytree': 0.8393354684359675}. Best is trial 1 with value: 0.858451348832304.\n",
      "[I 2025-03-16 22:38:21,906] Trial 6 finished with value: 0.8899471763552462 and parameters: {'n_estimators': 416, 'max_depth': 6, 'learning_rate': 0.01241487163911609, 'subsample': 0.8082774931957839, 'colsample_bytree': 0.8842331269171162}. Best is trial 1 with value: 0.858451348832304.\n",
      "[I 2025-03-16 22:38:31,386] Trial 7 finished with value: 0.8927529971074264 and parameters: {'n_estimators': 377, 'max_depth': 8, 'learning_rate': 0.03746991060709214, 'subsample': 0.8292586698190865, 'colsample_bytree': 0.8379224161763204}. Best is trial 1 with value: 0.858451348832304.\n",
      "[I 2025-03-16 22:38:36,208] Trial 8 finished with value: 0.8927879400185433 and parameters: {'n_estimators': 447, 'max_depth': 5, 'learning_rate': 0.012777637608138704, 'subsample': 0.8398084752980928, 'colsample_bytree': 0.8471372810038953}. Best is trial 1 with value: 0.858451348832304.\n",
      "[I 2025-03-16 22:38:40,381] Trial 9 finished with value: 0.8886929074766661 and parameters: {'n_estimators': 393, 'max_depth': 5, 'learning_rate': 0.014558050442527155, 'subsample': 0.7314531482715705, 'colsample_bytree': 0.8466135813237535}. Best is trial 1 with value: 0.858451348832304.\n",
      "[I 2025-03-16 22:38:50,212] Trial 10 finished with value: 0.8863649905634392 and parameters: {'n_estimators': 494, 'max_depth': 7, 'learning_rate': 0.028505218419598518, 'subsample': 0.7662310412113447, 'colsample_bytree': 0.7561562812929069}. Best is trial 1 with value: 0.858451348832304.\n",
      "[I 2025-03-16 22:39:00,506] Trial 11 finished with value: 0.8911921574453583 and parameters: {'n_estimators': 427, 'max_depth': 8, 'learning_rate': 0.025952632865984974, 'subsample': 0.704225270518308, 'colsample_bytree': 0.798679662850215}. Best is trial 1 with value: 0.858451348832304.\n",
      "[I 2025-03-16 22:39:07,109] Trial 12 finished with value: 0.8901406918639786 and parameters: {'n_estimators': 351, 'max_depth': 7, 'learning_rate': 0.04767822460632172, 'subsample': 0.7028067090631147, 'colsample_bytree': 0.8021323886606937}. Best is trial 1 with value: 0.858451348832304.\n",
      "[I 2025-03-16 22:39:11,700] Trial 13 finished with value: 0.8655608814387957 and parameters: {'n_estimators': 450, 'max_depth': 5, 'learning_rate': 0.02286460430293696, 'subsample': 0.7623585993591696, 'colsample_bytree': 0.8091043248386762}. Best is trial 1 with value: 0.858451348832304.\n",
      "[I 2025-03-16 22:39:16,188] Trial 14 finished with value: 0.8762644064927816 and parameters: {'n_estimators': 454, 'max_depth': 5, 'learning_rate': 0.023920726869127815, 'subsample': 0.765970474259144, 'colsample_bytree': 0.7440621880514676}. Best is trial 1 with value: 0.858451348832304.\n",
      "[I 2025-03-16 22:39:21,108] Trial 15 finished with value: 0.8739406637947146 and parameters: {'n_estimators': 495, 'max_depth': 5, 'learning_rate': 0.034204217209082094, 'subsample': 0.7670177564533982, 'colsample_bytree': 0.817241395167921}. Best is trial 1 with value: 0.858451348832304.\n",
      "[I 2025-03-16 22:39:27,562] Trial 16 finished with value: 0.8903140217695799 and parameters: {'n_estimators': 432, 'max_depth': 6, 'learning_rate': 0.021354437160710303, 'subsample': 0.7558842657021436, 'colsample_bytree': 0.769758226234832}. Best is trial 1 with value: 0.858451348832304.\n",
      "[I 2025-03-16 22:39:30,446] Trial 17 finished with value: 0.8735418345368947 and parameters: {'n_estimators': 470, 'max_depth': 4, 'learning_rate': 0.03153126091085535, 'subsample': 0.7824129232449347, 'colsample_bytree': 0.7260202082169951}. Best is trial 1 with value: 0.858451348832304.\n",
      "[I 2025-03-16 22:39:36,839] Trial 18 finished with value: 0.8800945296022197 and parameters: {'n_estimators': 416, 'max_depth': 6, 'learning_rate': 0.022300195671117524, 'subsample': 0.7195614275398963, 'colsample_bytree': 0.8876553131893753}. Best is trial 1 with value: 0.858451348832304.\n",
      "[I 2025-03-16 22:39:41,632] Trial 19 finished with value: 0.8823145605898669 and parameters: {'n_estimators': 473, 'max_depth': 5, 'learning_rate': 0.028492165902189316, 'subsample': 0.7483799033330826, 'colsample_bytree': 0.8199328202963344}. Best is trial 1 with value: 0.858451348832304.\n",
      "[I 2025-03-16 22:39:51,252] Trial 20 finished with value: 0.9082934886576844 and parameters: {'n_estimators': 445, 'max_depth': 7, 'learning_rate': 0.019285751815884038, 'subsample': 0.8934793897801213, 'colsample_bytree': 0.780103492623465}. Best is trial 1 with value: 0.858451348832304.\n",
      "[I 2025-03-16 22:39:54,165] Trial 21 finished with value: 0.8773184846385327 and parameters: {'n_estimators': 474, 'max_depth': 4, 'learning_rate': 0.03363819906609537, 'subsample': 0.7848727674712115, 'colsample_bytree': 0.7228024201022013}. Best is trial 1 with value: 0.858451348832304.\n",
      "[I 2025-03-16 22:39:57,057] Trial 22 finished with value: 0.9051940638266909 and parameters: {'n_estimators': 465, 'max_depth': 4, 'learning_rate': 0.03199412733831034, 'subsample': 0.7939653501031096, 'colsample_bytree': 0.7373141510000486}. Best is trial 1 with value: 0.858451348832304.\n",
      "[I 2025-03-16 22:39:59,894] Trial 23 finished with value: 0.8620125857930951 and parameters: {'n_estimators': 438, 'max_depth': 4, 'learning_rate': 0.03738143169661378, 'subsample': 0.7804944069059848, 'colsample_bytree': 0.8222395076068061}. Best is trial 1 with value: 0.858451348832304.\n",
      "[I 2025-03-16 22:40:04,208] Trial 24 finished with value: 0.9062728678750667 and parameters: {'n_estimators': 433, 'max_depth': 5, 'learning_rate': 0.03887120081257394, 'subsample': 0.8178933711010601, 'colsample_bytree': 0.8200672345607661}. Best is trial 1 with value: 0.858451348832304.\n",
      "[I 2025-03-16 22:40:10,413] Trial 25 finished with value: 0.870151521500576 and parameters: {'n_estimators': 412, 'max_depth': 6, 'learning_rate': 0.045712531542501815, 'subsample': 0.7474355068131162, 'colsample_bytree': 0.8625578710155796}. Best is trial 1 with value: 0.858451348832304.\n",
      "[I 2025-03-16 22:40:14,949] Trial 26 finished with value: 0.8758766770034079 and parameters: {'n_estimators': 452, 'max_depth': 5, 'learning_rate': 0.037139961101064795, 'subsample': 0.7153697558209768, 'colsample_bytree': 0.7907167591284332}. Best is trial 1 with value: 0.858451348832304.\n",
      "[I 2025-03-16 22:40:17,643] Trial 27 finished with value: 0.8784608897096506 and parameters: {'n_estimators': 408, 'max_depth': 4, 'learning_rate': 0.02576308116180691, 'subsample': 0.7795422418074991, 'colsample_bytree': 0.8255921030274038}. Best is trial 1 with value: 0.858451348832304.\n",
      "[I 2025-03-16 22:40:23,815] Trial 28 finished with value: 0.8622790133902549 and parameters: {'n_estimators': 432, 'max_depth': 6, 'learning_rate': 0.043813935596260074, 'subsample': 0.7568425818148986, 'colsample_bytree': 0.8138117659697957}. Best is trial 1 with value: 0.858451348832304.\n",
      "[I 2025-03-16 22:40:29,483] Trial 29 finished with value: 0.8771759368269441 and parameters: {'n_estimators': 377, 'max_depth': 6, 'learning_rate': 0.04254873619706666, 'subsample': 0.7181286571047854, 'colsample_bytree': 0.8672312934161992}. Best is trial 1 with value: 0.858451348832304.\n",
      "[I 2025-03-16 22:40:36,725] Trial 30 finished with value: 0.875832902027331 and parameters: {'n_estimators': 399, 'max_depth': 7, 'learning_rate': 0.049476470578473666, 'subsample': 0.7361343138250417, 'colsample_bytree': 0.788812244253689}. Best is trial 1 with value: 0.858451348832304.\n",
      "[I 2025-03-16 22:40:42,945] Trial 31 finished with value: 0.8313337510445324 and parameters: {'n_estimators': 435, 'max_depth': 6, 'learning_rate': 0.04397019145076399, 'subsample': 0.75405778365374, 'colsample_bytree': 0.8093846855364646}. Best is trial 31 with value: 0.8313337510445324.\n",
      "[I 2025-03-16 22:40:49,135] Trial 32 finished with value: 0.8377400971145192 and parameters: {'n_estimators': 432, 'max_depth': 6, 'learning_rate': 0.04339963425396416, 'subsample': 0.7441899952831649, 'colsample_bytree': 0.8341617548724239}. Best is trial 31 with value: 0.8313337510445324.\n",
      "[I 2025-03-16 22:40:55,085] Trial 33 finished with value: 0.8540229293892894 and parameters: {'n_estimators': 425, 'max_depth': 6, 'learning_rate': 0.03970436479422408, 'subsample': 0.7449975554784841, 'colsample_bytree': 0.8305036068873993}. Best is trial 31 with value: 0.8313337510445324.\n",
      "[I 2025-03-16 22:41:01,058] Trial 34 finished with value: 0.86532641192285 and parameters: {'n_estimators': 424, 'max_depth': 6, 'learning_rate': 0.040334551941073625, 'subsample': 0.7276831023571876, 'colsample_bytree': 0.8323810057905193}. Best is trial 31 with value: 0.8313337510445324.\n",
      "[I 2025-03-16 22:41:09,016] Trial 35 finished with value: 0.8407533787874899 and parameters: {'n_estimators': 402, 'max_depth': 7, 'learning_rate': 0.04550413512454231, 'subsample': 0.7461627990773272, 'colsample_bytree': 0.8538703900541802}. Best is trial 31 with value: 0.8313337510445324.\n",
      "[I 2025-03-16 22:41:15,733] Trial 36 finished with value: 0.8885321736249258 and parameters: {'n_estimators': 359, 'max_depth': 7, 'learning_rate': 0.045486634278070225, 'subsample': 0.7424333525735267, 'colsample_bytree': 0.858885113580837}. Best is trial 31 with value: 0.8313337510445324.\n",
      "[I 2025-03-16 22:41:23,116] Trial 37 finished with value: 0.8714612582747295 and parameters: {'n_estimators': 391, 'max_depth': 7, 'learning_rate': 0.04901658908908936, 'subsample': 0.7266372641850847, 'colsample_bytree': 0.8765139601032641}. Best is trial 31 with value: 0.8313337510445324.\n",
      "[I 2025-03-16 22:41:31,192] Trial 38 finished with value: 0.8493910275570715 and parameters: {'n_estimators': 337, 'max_depth': 8, 'learning_rate': 0.045841063049903236, 'subsample': 0.7545734910755368, 'colsample_bytree': 0.8980368259445971}. Best is trial 31 with value: 0.8313337510445324.\n",
      "[I 2025-03-16 22:41:38,846] Trial 39 finished with value: 0.8721472479037448 and parameters: {'n_estimators': 319, 'max_depth': 8, 'learning_rate': 0.04601660864669961, 'subsample': 0.7937446481788261, 'colsample_bytree': 0.8971364948932483}. Best is trial 31 with value: 0.8313337510445324.\n",
      "[I 2025-03-16 22:41:46,931] Trial 40 finished with value: 0.8765816446946754 and parameters: {'n_estimators': 332, 'max_depth': 8, 'learning_rate': 0.04302854671742772, 'subsample': 0.773387183311847, 'colsample_bytree': 0.8523283484983548}. Best is trial 31 with value: 0.8313337510445324.\n",
      "[I 2025-03-16 22:41:54,337] Trial 41 finished with value: 0.8381526402563392 and parameters: {'n_estimators': 405, 'max_depth': 7, 'learning_rate': 0.04072140952203968, 'subsample': 0.7536140650657848, 'colsample_bytree': 0.8314718414502331}. Best is trial 31 with value: 0.8313337510445324.\n",
      "[I 2025-03-16 22:42:03,537] Trial 42 finished with value: 0.8864848130295914 and parameters: {'n_estimators': 390, 'max_depth': 8, 'learning_rate': 0.04150067003800747, 'subsample': 0.7536262647661337, 'colsample_bytree': 0.8734296171258497}. Best is trial 31 with value: 0.8313337510445324.\n",
      "[I 2025-03-16 22:42:11,067] Trial 43 finished with value: 0.8901582215217427 and parameters: {'n_estimators': 404, 'max_depth': 7, 'learning_rate': 0.047286901054791726, 'subsample': 0.7374715636733605, 'colsample_bytree': 0.8399145495968512}. Best is trial 31 with value: 0.8313337510445324.\n",
      "[I 2025-03-16 22:42:18,280] Trial 44 finished with value: 0.9025632094284435 and parameters: {'n_estimators': 379, 'max_depth': 7, 'learning_rate': 0.044569828448084436, 'subsample': 0.8064798244725294, 'colsample_bytree': 0.8542377869255368}. Best is trial 31 with value: 0.8313337510445324.\n",
      "[I 2025-03-16 22:42:25,488] Trial 45 finished with value: 0.841491680946544 and parameters: {'n_estimators': 300, 'max_depth': 8, 'learning_rate': 0.048092303293392744, 'subsample': 0.7577733729763971, 'colsample_bytree': 0.8911827475736562}. Best is trial 31 with value: 0.8313337510445324.\n",
      "[I 2025-03-16 22:42:32,579] Trial 46 finished with value: 0.8551729487366664 and parameters: {'n_estimators': 363, 'max_depth': 7, 'learning_rate': 0.04153705963875216, 'subsample': 0.7728165810782777, 'colsample_bytree': 0.8432456580381866}. Best is trial 31 with value: 0.8313337510445324.\n",
      "[I 2025-03-16 22:42:41,923] Trial 47 finished with value: 0.8854005890023814 and parameters: {'n_estimators': 402, 'max_depth': 8, 'learning_rate': 0.04797061529329427, 'subsample': 0.8563329037151379, 'colsample_bytree': 0.8886621888601132}. Best is trial 31 with value: 0.8313337510445324.\n",
      "[I 2025-03-16 22:42:47,805] Trial 48 finished with value: 0.8848255527493422 and parameters: {'n_estimators': 423, 'max_depth': 6, 'learning_rate': 0.03521062444248592, 'subsample': 0.7090597110135437, 'colsample_bytree': 0.8055432972886887}. Best is trial 31 with value: 0.8313337510445324.\n",
      "[I 2025-03-16 22:42:54,528] Trial 49 finished with value: 0.8923318470483087 and parameters: {'n_estimators': 383, 'max_depth': 7, 'learning_rate': 0.049636280087409876, 'subsample': 0.7270465695687862, 'colsample_bytree': 0.8317718765213459}. Best is trial 31 with value: 0.8313337510445324.\n"
     ]
    },
    {
     "name": "stdout",
     "output_type": "stream",
     "text": [
      "Best Hyperparameters: {'n_estimators': 435, 'max_depth': 6, 'learning_rate': 0.04397019145076399, 'subsample': 0.75405778365374, 'colsample_bytree': 0.8093846855364646}\n",
      "Best MAE: 0.8313337510445324\n"
     ]
    }
   ],
   "source": [
    "import optuna\n",
    "import xgboost as xgb\n",
    "from sklearn.metrics import mean_absolute_error\n",
    "\n",
    "def objective(trial):\n",
    "    params = {\n",
    "        'n_estimators': trial.suggest_int('n_estimators', 300, 500),\n",
    "        'max_depth': trial.suggest_int('max_depth', 4, 8),\n",
    "        'learning_rate': trial.suggest_float('learning_rate', 0.01, 0.05),\n",
    "        'subsample': trial.suggest_float('subsample', 0.7, 0.9),\n",
    "        'colsample_bytree': trial.suggest_float('colsample_bytree', 0.7, 0.9),\n",
    "        'random_state': 42\n",
    "    }\n",
    "\n",
    "    model = xgb.XGBRegressor(**params)\n",
    "    model.fit(X_train_scaled, y_train)\n",
    "    y_pred = model.predict(X_test_scaled)\n",
    "    \n",
    "    return mean_absolute_error(y_test, y_pred)\n",
    "\n",
    "# Run Optuna Tuning\n",
    "study = optuna.create_study(direction='minimize')\n",
    "study.optimize(objective, n_trials=50)\n",
    "\n",
    "print(\"Best Hyperparameters:\", study.best_params)\n",
    "print(\"Best MAE:\", study.best_value)\n"
   ]
  },
  {
   "cell_type": "code",
   "execution_count": 115,
   "id": "faa7f875",
   "metadata": {},
   "outputs": [
    {
     "name": "stdout",
     "output_type": "stream",
     "text": [
      "Best Parameters Found by Optuna: {'n_estimators': 435, 'max_depth': 6, 'learning_rate': 0.04397019145076399, 'subsample': 0.75405778365374, 'colsample_bytree': 0.8093846855364646}\n"
     ]
    }
   ],
   "source": [
    "best_params = study.best_params\n",
    "print(\"Best Parameters Found by Optuna:\", best_params)\n"
   ]
  },
  {
   "cell_type": "code",
   "execution_count": 116,
   "id": "8ec27f11",
   "metadata": {},
   "outputs": [
    {
     "name": "stdout",
     "output_type": "stream",
     "text": [
      "Final MAE: 0.8313\n",
      "Final RMSE: 1.1047\n",
      "Final R² Score: 0.4238\n"
     ]
    }
   ],
   "source": [
    "# Train the tuned model\n",
    "xgb_model = xgb.XGBRegressor(\n",
    "    n_estimators=best_params['n_estimators'],\n",
    "    max_depth=best_params['max_depth'],\n",
    "    learning_rate=best_params['learning_rate'],\n",
    "    subsample=best_params['subsample'],\n",
    "    colsample_bytree=best_params['colsample_bytree'],\n",
    "    random_state=42\n",
    ")\n",
    "\n",
    "# Fit the model\n",
    "xgb_model.fit(X_train_scaled, y_train)\n",
    "\n",
    "# Predictions\n",
    "y_pred_xgb = xgb_model.predict(X_test_scaled)\n",
    "\n",
    "# Step 3: Evaluation Metrics\n",
    "final_mae = mean_absolute_error(y_test, y_pred_xgb)\n",
    "final_rmse = np.sqrt(mean_squared_error(y_test, y_pred_xgb))\n",
    "final_r2 = r2_score(y_test, y_pred_xgb)\n",
    "\n",
    "print(f\"Final MAE: {final_mae:.4f}\")\n",
    "print(f\"Final RMSE: {final_rmse:.4f}\")\n",
    "print(f\"Final R² Score: {final_r2:.4f}\")"
   ]
  },
  {
   "cell_type": "code",
   "execution_count": 117,
   "id": "b2eb837d",
   "metadata": {},
   "outputs": [
    {
     "data": {
      "image/png": "[encoded data removed]",
      "text/plain": [
       "<Figure size 600x600 with 1 Axes>"
      ]
     },
     "metadata": {},
     "output_type": "display_data"
    }
   ],
   "source": [
    "plt.figure(figsize=(6, 6))\n",
    "plt.scatter(y_test, y_pred_xgb, alpha=0.5)\n",
    "plt.plot([min(y_test), max(y_test)], [min(y_test), max(y_test)], color='red', linestyle='--')\n",
    "plt.title('Actual vs Predicted Values (XGBoost with Tuning)')\n",
    "plt.xlabel('Actual Values')\n",
    "plt.ylabel('Predicted Values')\n",
    "plt.grid(True)\n",
    "plt.show()"
   ]
  },
  {
   "cell_type": "markdown",
   "id": "04905477",
   "metadata": {},
   "source": [
    "## **After implementing the Optuna Optimization technique of XGboost I got:**\n",
    "- Final MAE: 0.8313 ((Significant accuracy boost )\n",
    "- Final RMSE: 1.1047 (Fewer large errors ). \n",
    "- Final R² Score: 0.4238 (Now explaining ~42% of the variance).\n",
    "\n",
    "Which are the best metrics."
   ]
  },
  {
   "cell_type": "code",
   "execution_count": 120,
   "id": "a05295ac",
   "metadata": {
    "scrolled": true
   },
   "outputs": [
    {
     "name": "stdout",
     "output_type": "stream",
     "text": [
      "Collecting shap\n",
      "  Using cached shap-0.47.0-cp310-cp310-win_amd64.whl.metadata (25 kB)\n",
      "Requirement already satisfied: numpy in c:\\users\\hamish\\appdata\\local\\programs\\python\\python310\\lib\\site-packages (from shap) (1.25.2)\n",
      "Requirement already satisfied: scipy in c:\\users\\hamish\\appdata\\local\\programs\\python\\python310\\lib\\site-packages (from shap) (1.9.3)\n",
      "Requirement already satisfied: scikit-learn in c:\\users\\hamish\\appdata\\local\\programs\\python\\python310\\lib\\site-packages (from shap) (1.1.3)\n",
      "Requirement already satisfied: pandas in c:\\users\\hamish\\appdata\\local\\programs\\python\\python310\\lib\\site-packages (from shap) (1.5.1)\n",
      "Requirement already satisfied: tqdm>=4.27.0 in c:\\users\\hamish\\appdata\\local\\programs\\python\\python310\\lib\\site-packages (from shap) (4.67.1)\n",
      "Requirement already satisfied: packaging>20.9 in c:\\users\\hamish\\appdata\\local\\programs\\python\\python310\\lib\\site-packages (from shap) (21.3)\n",
      "Collecting slicer==0.0.8 (from shap)\n",
      "  Downloading slicer-0.0.8-py3-none-any.whl.metadata (4.0 kB)\n",
      "Collecting numba>=0.54 (from shap)\n",
      "  Downloading numba-0.61.0-cp310-cp310-win_amd64.whl.metadata (2.8 kB)\n",
      "Collecting cloudpickle (from shap)\n",
      "  Downloading cloudpickle-3.1.1-py3-none-any.whl.metadata (7.1 kB)\n",
      "Requirement already satisfied: typing-extensions in c:\\users\\hamish\\appdata\\local\\programs\\python\\python310\\lib\\site-packages (from shap) (4.12.2)\n",
      "Collecting llvmlite<0.45,>=0.44.0dev0 (from numba>=0.54->shap)\n",
      "  Downloading llvmlite-0.44.0-cp310-cp310-win_amd64.whl.metadata (5.0 kB)\n",
      "Requirement already satisfied: pyparsing!=3.0.5,>=2.0.2 in c:\\users\\hamish\\appdata\\local\\programs\\python\\python310\\lib\\site-packages (from packaging>20.9->shap) (3.0.9)\n",
      "Requirement already satisfied: colorama in c:\\users\\hamish\\appdata\\local\\programs\\python\\python310\\lib\\site-packages (from tqdm>=4.27.0->shap) (0.4.5)\n",
      "Requirement already satisfied: python-dateutil>=2.8.1 in c:\\users\\hamish\\appdata\\local\\programs\\python\\python310\\lib\\site-packages (from pandas->shap) (2.8.2)\n",
      "Requirement already satisfied: pytz>=2020.1 in c:\\users\\hamish\\appdata\\local\\programs\\python\\python310\\lib\\site-packages (from pandas->shap) (2022.4)\n",
      "Requirement already satisfied: joblib>=1.0.0 in c:\\users\\hamish\\appdata\\local\\programs\\python\\python310\\lib\\site-packages (from scikit-learn->shap) (1.2.0)\n",
      "Requirement already satisfied: threadpoolctl>=2.0.0 in c:\\users\\hamish\\appdata\\local\\programs\\python\\python310\\lib\\site-packages (from scikit-learn->shap) (3.1.0)\n",
      "Requirement already satisfied: six>=1.5 in c:\\users\\hamish\\appdata\\local\\programs\\python\\python310\\lib\\site-packages (from python-dateutil>=2.8.1->pandas->shap) (1.16.0)\n",
      "Downloading shap-0.47.0-cp310-cp310-win_amd64.whl (530 kB)\n",
      "   ---------------------------------------- 530.1/530.1 kB 1.9 MB/s eta 0:00:00\n",
      "Downloading slicer-0.0.8-py3-none-any.whl (15 kB)\n",
      "Downloading numba-0.61.0-cp310-cp310-win_amd64.whl (2.8 MB)\n",
      "   ---------------------------------------- 2.8/2.8 MB 1.6 MB/s eta 0:00:00\n",
      "Downloading cloudpickle-3.1.1-py3-none-any.whl (20 kB)\n",
      "Downloading llvmlite-0.44.0-cp310-cp310-win_amd64.whl (30.3 MB)\n",
      "   ---------------------------------------- 30.3/30.3 MB 1.7 MB/s eta 0:00:00\n",
      "Installing collected packages: slicer, llvmlite, cloudpickle, numba, shap\n",
      "Successfully installed cloudpickle-3.1.1 llvmlite-0.44.0 numba-0.61.0 shap-0.47.0 slicer-0.0.8\n"
     ]
    },
    {
     "name": "stderr",
     "output_type": "stream",
     "text": [
      "\n",
      "[notice] A new release of pip is available: 24.3.1 -> 25.0.1\n",
      "[notice] To update, run: python.exe -m pip install --upgrade pip\n"
     ]
    }
   ],
   "source": [
    "!pip install shap"
   ]
  },
  {
   "cell_type": "code",
   "execution_count": 121,
   "id": "7a5ed5e2",
   "metadata": {
    "scrolled": true
   },
   "outputs": [
    {
     "name": "stdout",
     "output_type": "stream",
     "text": [
      "Collecting lime\n",
      "  Using cached lime-0.2.0.1.tar.gz (275 kB)\n",
      "  Preparing metadata (setup.py): started\n",
      "  Preparing metadata (setup.py): finished with status 'error'\n"
     ]
    },
    {
     "name": "stderr",
     "output_type": "stream",
     "text": [
      "  error: subprocess-exited-with-error\n",
      "  \n",
      "  python setup.py egg_info did not run successfully.\n",
      "  exit code: 1\n",
      "  \n",
      "  [42 lines of output]\n",
      "  running egg_info\n",
      "  creating C:\\Users\\Hamish\\AppData\\Local\\Temp\\pip-pip-egg-info-t_u6enjo\\lime.egg-info\n",
      "  writing C:\\Users\\Hamish\\AppData\\Local\\Temp\\pip-pip-egg-info-t_u6enjo\\lime.egg-info\\PKG-INFO\n",
      "  writing dependency_links to C:\\Users\\Hamish\\AppData\\Local\\Temp\\pip-pip-egg-info-t_u6enjo\\lime.egg-info\\dependency_links.txt\n",
      "  writing requirements to C:\\Users\\Hamish\\AppData\\Local\\Temp\\pip-pip-egg-info-t_u6enjo\\lime.egg-info\\requires.txt\n",
      "  writing top-level names to C:\\Users\\Hamish\\AppData\\Local\\Temp\\pip-pip-egg-info-t_u6enjo\\lime.egg-info\\top_level.txt\n",
      "  writing manifest file 'C:\\Users\\Hamish\\AppData\\Local\\Temp\\pip-pip-egg-info-t_u6enjo\\lime.egg-info\\SOURCES.txt'\n",
      "  reading manifest file 'C:\\Users\\Hamish\\AppData\\Local\\Temp\\pip-pip-egg-info-t_u6enjo\\lime.egg-info\\SOURCES.txt'\n",
      "  reading manifest template 'MANIFEST.in'\n",
      "  adding license file 'LICENSE'\n",
      "  Traceback (most recent call last):\n",
      "    File \"<string>\", line 2, in <module>\n",
      "    File \"<pip-setuptools-caller>\", line 34, in <module>\n",
      "    File \"C:\\Users\\Hamish\\AppData\\Local\\Temp\\pip-install-lmph0ew6\\lime_d5e134a3cfc44513b63763ab5ad31c66\\setup.py\", line 3, in <module>\n",
      "      setup(name='lime',\n",
      "    File \"C:\\Users\\Hamish\\AppData\\Local\\Programs\\Python\\Python310\\lib\\site-packages\\setuptools\\__init__.py\", line 117, in setup\n",
      "      return distutils.core.setup(**attrs)\n",
      "    File \"C:\\Users\\Hamish\\AppData\\Local\\Programs\\Python\\Python310\\lib\\site-packages\\setuptools\\_distutils\\core.py\", line 183, in setup\n",
      "      return run_commands(dist)\n",
      "    File \"C:\\Users\\Hamish\\AppData\\Local\\Programs\\Python\\Python310\\lib\\site-packages\\setuptools\\_distutils\\core.py\", line 199, in run_commands\n",
      "      dist.run_commands()\n",
      "    File \"C:\\Users\\Hamish\\AppData\\Local\\Programs\\Python\\Python310\\lib\\site-packages\\setuptools\\_distutils\\dist.py\", line 954, in run_commands\n",
      "      self.run_command(cmd)\n",
      "    File \"C:\\Users\\Hamish\\AppData\\Local\\Programs\\Python\\Python310\\lib\\site-packages\\setuptools\\dist.py\", line 994, in run_command\n",
      "      super().run_command(command)\n",
      "    File \"C:\\Users\\Hamish\\AppData\\Local\\Programs\\Python\\Python310\\lib\\site-packages\\setuptools\\_distutils\\dist.py\", line 973, in run_command\n",
      "      cmd_obj.run()\n",
      "    File \"C:\\Users\\Hamish\\AppData\\Local\\Programs\\Python\\Python310\\lib\\site-packages\\setuptools\\command\\egg_info.py\", line 312, in run\n",
      "      self.find_sources()\n",
      "    File \"C:\\Users\\Hamish\\AppData\\Local\\Programs\\Python\\Python310\\lib\\site-packages\\setuptools\\command\\egg_info.py\", line 320, in find_sources\n",
      "      mm.run()\n",
      "    File \"C:\\Users\\Hamish\\AppData\\Local\\Programs\\Python\\Python310\\lib\\site-packages\\setuptools\\command\\egg_info.py\", line 548, in run\n",
      "      self.prune_file_list()\n",
      "    File \"C:\\Users\\Hamish\\AppData\\Local\\Programs\\Python\\Python310\\lib\\site-packages\\setuptools\\command\\sdist.py\", line 162, in prune_file_list\n",
      "      super().prune_file_list()\n",
      "    File \"C:\\Users\\Hamish\\AppData\\Local\\Programs\\Python\\Python310\\lib\\site-packages\\setuptools\\_distutils\\command\\sdist.py\", line 380, in prune_file_list\n",
      "      base_dir = self.distribution.get_fullname()\n",
      "    File \"C:\\Users\\Hamish\\AppData\\Local\\Programs\\Python\\Python310\\lib\\site-packages\\setuptools\\_core_metadata.py\", line 267, in get_fullname\n",
      "      return _distribution_fullname(self.get_name(), self.get_version())\n",
      "    File \"C:\\Users\\Hamish\\AppData\\Local\\Programs\\Python\\Python310\\lib\\site-packages\\setuptools\\_core_metadata.py\", line 285, in _distribution_fullname\n",
      "      canonicalize_version(version, strip_trailing_zero=False),\n",
      "  TypeError: canonicalize_version() got an unexpected keyword argument 'strip_trailing_zero'\n",
      "  [end of output]\n",
      "  \n",
      "  note: This error originates from a subprocess, and is likely not a problem with pip.\n",
      "\n",
      "[notice] A new release of pip is available: 24.3.1 -> 25.0.1\n",
      "[notice] To update, run: python.exe -m pip install --upgrade pip\n",
      "error: metadata-generation-failed\n",
      "\n",
      "Encountered error while generating package metadata.\n",
      "\n",
      "See above for output.\n",
      "\n",
      "note: This is an issue with the package mentioned above, not pip.\n",
      "hint: See above for details.\n"
     ]
    }
   ],
   "source": [
    "!pip install lime "
   ]
  },
  {
   "cell_type": "code",
   "execution_count": 122,
   "id": "c429f1d8",
   "metadata": {},
   "outputs": [],
   "source": [
    "import shap\n",
    "\n",
    "# Initialize the SHAP Explainer for XGBoost\n",
    "explainer = shap.Explainer(xgb_model)\n",
    "\n",
    "# Compute SHAP values\n",
    "shap_values = explainer(X_test_scaled)"
   ]
  },
  {
   "cell_type": "code",
   "execution_count": 123,
   "id": "bad11dc0",
   "metadata": {},
   "outputs": [
    {
     "data": {
      "image/png": "[encoded data removed]",
      "text/plain": [
       "<Figure size 800x950 with 2 Axes>"
      ]
     },
     "metadata": {},
     "output_type": "display_data"
    }
   ],
   "source": [
    "shap.summary_plot(shap_values, X_test_scaled, feature_names=X.columns)"
   ]
  },
  {
   "cell_type": "markdown",
   "id": "7596122b",
   "metadata": {},
   "source": [
    "# 4 Key Insights and Recommendations\n",
    "### 4.1 Insights\n",
    "- The final tuned XGBoost model achieved a significant improvement over the baseline Neural Network model.\n",
    "- SHAP analysis revealed that certain spectral features had a disproportionately high impact on predictions, guiding future feature engineering efforts.\n",
    "- The model effectively captured complex patterns in the data, but additional improvement may be possible through enhanced feature engineering.\n",
    "\n",
    "### 4.2 Recommendations for Further Improvement\n",
    "   - Introduce interaction features to capture non-linear relationships.\n",
    "   - Implement Stacking Ensemble Methods to combine the strengths of multiple models.\n",
    "   - Explore Target Encoding for categorical variables to improve feature representation.\n",
    "   - Perform deeper residual analysis to detect patterns in prediction errors.\n",
    "\n"
   ]
  },
  {
   "cell_type": "code",
   "execution_count": null,
   "id": "2f99a72e",
   "metadata": {},
   "outputs": [],
   "source": []
  }
 ],
 "metadata": {
  "kernelspec": {
   "display_name": "Python 3 (ipykernel)",
   "language": "python",
   "name": "python3"
  },
  "language_info": {
   "codemirror_mode": {
    "name": "ipython",
    "version": 3
   },
   "file_extension": ".py",
   "mimetype": "text/x-python",
   "name": "python",
   "nbconvert_exporter": "python",
   "pygments_lexer": "ipython3",
   "version": "3.10.6"
  }
 },
 "nbformat": 4,
 "nbformat_minor": 5
}
